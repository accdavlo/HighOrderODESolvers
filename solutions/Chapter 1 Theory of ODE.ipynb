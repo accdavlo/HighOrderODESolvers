{
 "cells": [
  {
   "cell_type": "markdown",
   "metadata": {},
   "source": [
    "# High order accurate time integration methods"
   ]
  },
  {
   "attachments": {},
   "cell_type": "markdown",
   "metadata": {},
   "source": [
    "### Information about the course\n",
    "1. Teacher: Davide Torlo, postdoc at SISSA, working on hyperbolic PDE (Euler's equations, shallow water), FEM, FD, FV, DG, model order reduction\n",
    "1. 20 hours: March $7^{th}-29^{th}$ Tuesday+Wednesday+Thursday 11.00-13.00 (not on $21^{st}$) \n",
    "1. Share half screen for whiteboard or Jupyter Notebook\n",
    "1. Jupyter notebooks on [GitHub](https://github.com/accdavlo/HighOrderODESolvers) (python3, few packages (numpy, scipy, matplotlib, nodepy)) or open them in [Google colab](https://github.com/accdavlo/HighOrderODESolvers#readme)\n",
    "1. Prerequisite: a bit of coding (anything is fine), basics of mathematics\n",
    "1. Topic is recent, but not difficult\n",
    "1. References: \n",
    "    1. Remi Abgrall's course at University of Zurich [course page](https://www.math.uzh.ch/index.php?id=ve_vo_det&key2=2970&keySemId=34) and [notes](https://www.math.uzh.ch/typo3conf/ext/qfq/Classes/Api/download.php?s=605796143d42a) \n",
    "    1. Hairer E., Nørsett S. P., Wanner G., *Solving Ordinary Differential Equations I: Nonstiff Problems* [book](https://www.springer.com/de/book/9783540566700)\n",
    "    1. Hairer E., Wanner G., *Solving Ordinary Differential Equations II: Stiff and Differential-Algebraic Problems* [book](https://www.springer.com/de/book/9783540604525)\n",
    "    1. J. C. Butcher, *Numerical Methods for Ordinary Differential Equations*, 2016, John Wiley & Sons, Ltd [book](https://onlinelibrary.wiley.com/doi/book/10.1002/9781119121534)\n",
    "    1. David I. Ketcheson, *Relaxation Runge--Kutta Methods: Conservation and Stability for Inner-Product Norms*. SIAM Journal on Numerical Analysis 2019 57:6, 2850-2870. https://doi.org/10.1137/19M1263662 [arXiv](https://arxiv.org/abs/1905.09847)\n",
    "    1. Han Veiga, M., Öffner, P. & Torlo, D. *DeC and ADER: Similarities, Differences and a Unified Framework.* J Sci Comput 87, 2 (2021). https://doi.org/10.1007/s10915-020-01397-5 [arXiv](https://arxiv.org/abs/2002.11764)\n",
    "    1. Micalizzi Lorenzo, Torlo Davide, *A new efficient explicit Deferred Correction framework: analysis and applications to hyperbolic PDEs and adaptivity* (2022) [arxiv](https://arxiv.org/abs/2210.02976)\n",
    "    1. Hans Burchard, Eric Deleersnijder, Andreas Meister, *A high-order conservative Patankar-type discretisation for stiff systems of production–destruction equations*. Applied Numerical Mathematics, 47, 1 (2003). https://doi.org/10.1016/S0168-9274(03)00101-6\n",
    "    1. Öffner, P. & Torlo, D. *Arbitrary high-order, conservative and positivity preserving Patankar-type deferred correction schemes*. Applied Numerical Mathematics (153), July 2020, Pages 15-34 https://doi.org/10.1016/j.apnum.2020.01.025 [arXiv](https://arxiv.org/abs/1905.09237)\n",
    "    1. Gottlieb, S. , Shu, C.-W., and Tadmor, E.. *Strong stability-preserving high-order time discretization methods.* SIAM review 43.1 (2001): 89-112. https://doi.org/10.1137/S003614450036757X [pdf](https://apps.dtic.mil/sti/pdfs/ADA376446.pdf)\n",
    "    1. Ketcheson et al.  [Nodepy package](https://nodepy.readthedocs.io/)"
   ]
  },
  {
   "cell_type": "markdown",
   "metadata": {},
   "source": [
    "We will work on python Jupyter notebooks and we will need a couple of modules"
   ]
  },
  {
   "cell_type": "code",
   "execution_count": null,
   "metadata": {},
   "outputs": [],
   "source": [
    "# Loading/installing packages\n",
    "\n",
    "# This is the basic package in python with all the numerical functions\n",
    "try:\n",
    "    import numpy as np\n",
    "except ImportError:\n",
    "    %pip install numpy\n",
    "    import numpy as np\n",
    "\n",
    "# This package allows to  plot\n",
    "try:\n",
    "    import matplotlib.pyplot as plt \n",
    "except ImportError:\n",
    "    %pip install matplotlib\n",
    "    import matplotlib.pyplot as plt \n",
    "\n",
    "#This package already implemented some functions for Runge Kutta and multistep methods\n",
    "try:\n",
    "    from nodepy import rk\n",
    "except ImportError:\n",
    "    %pip install nodepy\n",
    "    from nodepy import rk\n",
    "\n",
    "# This package has some functions to deal with polynomials\n",
    "try:\n",
    "    import scipy\n",
    "except ImportError:\n",
    "    %pip install scipy\n",
    "    import scipy"
   ]
  },
  {
   "cell_type": "markdown",
   "metadata": {},
   "source": [
    "#### Python (what do we need)\n",
    "* Interpreted language\n",
    "* Indentation rules the cycles and the colon : \n",
    "* Indexing from 0\n",
    "* Modules "
   ]
  },
  {
   "cell_type": "code",
   "execution_count": null,
   "metadata": {},
   "outputs": [],
   "source": [
    "import numpy as np\n",
    "## Example\n",
    "k=0\n",
    "for j in range(5):\n",
    "    k = k+j\n",
    "    print(\"This is the \",j,\"th triangular number: \",k, \"and its sqrt\",np.sqrt(k),\\\n",
    "         \" and this is its square\", k**2.)"
   ]
  },
  {
   "cell_type": "code",
   "execution_count": null,
   "metadata": {},
   "outputs": [],
   "source": [
    "# numpy arrays\n",
    "myArray=np.ones(5)\n",
    "print(myArray)\n",
    "\n",
    "myArray2=np.zeros((3,2))\n",
    "print(myArray2)\n",
    "\n",
    "myArray3=np.array([1,2,5])\n",
    "print(myArray3)\n",
    "\n",
    "myArray4 = np.array([[1,2,5],[4,6,7]])\n",
    "print(myArray4)"
   ]
  },
  {
   "cell_type": "markdown",
   "metadata": {},
   "source": [
    "#### Jupyter notebooks\n",
    "* Practical to alternate (Markdown) text and codes (not only python)\n",
    "* Cells that can be evaluated (Ctrl+Enter or Shift+Enter to go to the next one)\n",
    "* Create new cell above (A) below (B)\n",
    "* To edit a cell (double click/Enter)"
   ]
  },
  {
   "cell_type": "markdown",
   "metadata": {},
   "source": [
    "## Theory of ODE"
   ]
  },
  {
   "cell_type": "markdown",
   "metadata": {},
   "source": [
    "### Table of contents\n",
    " 1. Chapter 1: Theory of ODEs\n",
    "    1. [Section 1.1: Motivational problems](#examples)\n",
    "    1. [Section 1.2: Properties of ODEs](#properties)\n",
    "    1. [Section 1.3: Existence and Uniqueness](#existence)"
   ]
  },
  {
   "cell_type": "markdown",
   "metadata": {},
   "source": [
    "In many branches of natural sciences, ordinary differential equations as well as time-dependent partial differential equations play an important role in the modeling of physical, biological or chemical phenomena.\n",
    "\n",
    "In this course we will deal with **ordinary differential equations** (ODEs) and with numerical methods which are able to approximate the solutions of such equations with different levels of **accuracy**.\n",
    "\n",
    "An ODE can be written in the following setting. Consider a *time interval* $I:=[t_0, t_{end}]\\subset \\mathbb{R}$ an unknown variable $y:I\\to \\mathbb{R}^{S}$ and a *continuous* function $F:I\\times \\mathbb{R}^S\\to\\mathbb{R}^S$. The initial value problem (IVP) (or Cauchy problem) of a system of ODEs can be written as \n",
    "\n",
    "$$\n",
    "\\begin{equation}\n",
    "\\begin{cases}\n",
    "\\frac{dy}{dt} = F(t,y(t)),\\\\\n",
    "y(0)=y_0.\n",
    "\\end{cases}\n",
    "\\end{equation}\n",
    "$$\n",
    "\n",
    "The previous form is general enough even for higher order ODEs, indeed, suppose that we want to solve \n",
    "\n",
    "\\begin{equation}\n",
    "y^{(p)}=f(t,y(t),y'(t),\\dots,y^{(p-1)}(t))\n",
    "\\end{equation}\n",
    "\n",
    "then, we can write it into the following first order system\n",
    "\n",
    "\\begin{align}\n",
    "\\begin{cases}\n",
    "y'(t)=z_1(t)\\\\\n",
    "z_1'(t)=z_2(t)\\\\\n",
    "\\vdots \\\\\n",
    "z_{p-1}(t)= z_p(t)\\\\\n",
    "z_p'(t)= f(t,z_1(t),z_2(t), \\dots, z_{p-1}(t))\n",
    "\\end{cases}\n",
    "\\end{align}\n",
    "\n",
    "### Integral solution form\n",
    "#### Remark\n",
    "If y is a solution of \n",
    "$$\n",
    "\\begin{equation}\n",
    "\\begin{cases}\n",
    "\\frac{dy}{dt} = F(t,y(t)), \\quad t\\in I\\\\\n",
    "y(0)=y_0.\n",
    "\\end{cases}\n",
    "\\end{equation}\n",
    "$$\n",
    "then, for any $t\\in I$ \n",
    "$$\n",
    "y(t) = y_0 + \\int_{t_0}^t F(s,y(s)) ds.\n",
    "$$\n",
    "\n",
    "Also the opposite is true, if $y\\in \\mathcal{C}^0(I)$ and it satisfies the integral form, they $y\\in \\mathcal{C}^1(I)$ and it solves the differential form."
   ]
  },
  {
   "cell_type": "markdown",
   "metadata": {},
   "source": [
    "## Motivational ODE problems  <a id='examples'></a>"
   ]
  },
  {
   "cell_type": "markdown",
   "metadata": {},
   "source": [
    "Before starting with a bit of theory, let us show some famous and important examples of ODEs that we will carry all along the course.\n",
    "\n",
    "#### Scalar linear ODE (Dahlquist's problem)\n",
    "This is the *simplest* ODE one can consider and it is defined as\n",
    "$$\n",
    "\\begin{equation}\n",
    "\\begin{cases}\n",
    "y'(t) = -\\lambda y(t)\\\\\n",
    "y(t_0)=y_0\n",
    "\\end{cases}\n",
    "\\end{equation}\n",
    "$$\n",
    "with exact solution computable from \n",
    "$$\n",
    "\\begin{align}\n",
    "&\\int_{t_0}^t \\frac{y'(s)}{y(s)}ds = -\\lambda \\int_{t_0}^t dt\\\\\n",
    "&\\int_{t_0}^t \\frac{d}{ds} \\log(y(s))ds = -\\lambda (t-t_0)\\\\\n",
    "&\\log(y(t))- \\log(y(t_0)) = -\\lambda (t-t_0)\\\\\n",
    "&\\log(y(t)/y_0) = -\\lambda (t-t_0)\\\\\n",
    "&y(t)/y_0 = e^{-\\lambda (t-t_0)}\\\\\n",
    "&y(t) = y_0 e^{-\\lambda (t-t_0)}\n",
    "\\end{align}\n",
    "$$\n",
    "\n",
    "This equation will be useful to study the stability of numerical methods. Indeed, the solution can converge to 0, when $\\lambda > 0$ or can explode exponentially if $\\lambda < 0$, while it stays in an unstable equilibrium for $\\lambda =0$."
   ]
  },
  {
   "cell_type": "code",
   "execution_count": null,
   "metadata": {
    "scrolled": true
   },
   "outputs": [],
   "source": [
    "import numpy as np\n",
    "import matplotlib.pyplot as plt\n",
    "xx=np.linspace(0,2,101)\n",
    "plt.plot(xx,np.exp(-2*xx),label=\"lambda=2\")\n",
    "plt.plot(xx,np.exp(xx),label=\"lambda=-1\")\n",
    "plt.legend()\n",
    "plt.grid(True)\n",
    "plt.show()"
   ]
  },
  {
   "cell_type": "markdown",
   "metadata": {},
   "source": [
    "#### Linear system (Production destruction system)\n",
    "There are two populations $c_1,\\,c_2$, they destroy themselves and increase in function of the other population (linearly).\n",
    "\n",
    "$$\n",
    "\\begin{equation}\n",
    "\\begin{aligned}\n",
    "& \\begin{cases}\n",
    "c_1'(t)=c_2(t)-5c_1(t),\\\\\n",
    "c_2'(t)=5c_1(t)-c_2(t),\n",
    "\\end{cases}\\\\\n",
    " &c_1(0)=c_1^0=0.9, \\quad  &c_2(0)=c_2^0=0.1 \\, .\n",
    "\\end{aligned}\n",
    "\\end{equation}\n",
    "$$\n",
    "\n",
    "Total mass is conserved\n",
    "$$ \n",
    "c_1'+c_2'=0.\n",
    "$$\n",
    "\n",
    "We can compute the exact solution as exponential, by writing the problem in vectorial form \n",
    "\n",
    "$$\n",
    "\\begin{align}\n",
    "c'(t)=Ac(t)\\\\\n",
    "c(0)=c^0\n",
    "\\end{align}\\\\\n",
    "c(t)=e^{At}c^0\n",
    "$$\n",
    "where the exponential matrix can be computed as \n",
    "$$\n",
    "e^{At}=\\sum_{k=0}^{\\infty} \\frac{A^k t^k}{k!}\n",
    "$$\n",
    "notice that $A^2=-6 A$,\n",
    "\n",
    "$$\n",
    "c(t)=c^0+\\frac{1-e^{-6t}}{6} Ac^0.\n",
    "$$\n",
    "\n",
    "If $c_0>0$, then $c(t)>0$ for all $t\\in \\mathbb{R}$."
   ]
  },
  {
   "cell_type": "code",
   "execution_count": null,
   "metadata": {},
   "outputs": [],
   "source": [
    "A=np.array([[-5,1],[5,1]])\n",
    "c0=np.array([0.9,0.1])\n",
    "tt=np.linspace(0,1,100)\n",
    "\n",
    "ct=np.zeros((len(c0),len(tt)))\n",
    "for it, t in enumerate(tt):\n",
    "    ct[:,it]=c0+(1-np.exp(-6*t))/6*np.dot(A,c0)\n",
    "\n",
    "plt.plot(tt,ct[0,:], label=\"c1\")\n",
    "plt.plot(tt,ct[1,:], label=\"c2\")\n",
    "plt.legend()"
   ]
  },
  {
   "cell_type": "markdown",
   "metadata": {},
   "source": [
    "#### Lotka-Volterra predator-prey\n",
    "$$\n",
    "x'(t)=\\alpha x - \\beta x y\\\\\n",
    "y'(t)=\\delta xy - \\gamma y\n",
    "$$\n",
    "\n",
    "No analytical solution is known for this problem.\n",
    "\n",
    "The evolution looks like this."
   ]
  },
  {
   "cell_type": "markdown",
   "metadata": {},
   "source": [
    "![Lotka volterra evolution](https://github.com/accdavlo/HighOrderODESolvers/raw/master/images/chapter1/lotkaVolterra.png)"
   ]
  },
  {
   "cell_type": "markdown",
   "metadata": {},
   "source": [
    "One can study equilibria of the dynamical system ($x'=0$, $y'=0$).\n",
    "\n",
    "And the orbits around the stable equilibrium points. "
   ]
  },
  {
   "attachments": {},
   "cell_type": "markdown",
   "metadata": {},
   "source": [
    "![Lotka volterra phase space](https://github.com/accdavlo/HighOrderODESolvers/raw/master/images/chapter1/lotkaVolterraPhase.png)"
   ]
  },
  {
   "cell_type": "markdown",
   "metadata": {},
   "source": [
    "On each orbit the quantity \n",
    "\n",
    "$$\n",
    "\\eta(x,y) = \\delta x -\\gamma \\log(x) +\\beta y - \\alpha \\log(y)\n",
    "$$\n",
    "\n",
    "is conserved."
   ]
  },
  {
   "cell_type": "markdown",
   "metadata": {},
   "source": [
    "#### Nonlinear Oscillator\n",
    "\\begin{equation}\n",
    "\\begin{cases}\n",
    "u'(t)=-\\frac{v(t)}{n(t)}\\\\\n",
    "v'(t)= \\frac{u(t)}{n(t)}\\\\\n",
    "n(t):=\\sqrt{u^2(t)+v^2(t)}\n",
    "\\end{cases}\n",
    "\\end{equation}\n",
    "\n",
    "Energy $\\frac{n(t)^2}{2}$ is conserved\n",
    "$$\n",
    "\\frac{d}{dt}\\left(\\frac{n^2}{2}\\right)=\\frac{d}{dt}\\left(\\frac{u^2+v^2}{2}\\right)=u\\frac{du}{dt}+v\\frac{dv}{dt}=-u\\frac{v}{n}+v\\frac{u}{n}=0.\n",
    "$$\n",
    "\n",
    "Exact solution\n",
    "$$\n",
    "\\begin{pmatrix}\n",
    "u\\\\v\n",
    "\\end{pmatrix}= \\begin{pmatrix} \\cos(\\theta) &-\\sin(\\theta)\\\\ \\sin(\\theta) & \\cos(\\theta)\\end{pmatrix}\\begin{pmatrix}\n",
    "u^0\\\\v^0\n",
    "\\end{pmatrix},\\qquad \\theta(t)=\\frac{t}{n}.\n",
    "$$"
   ]
  },
  {
   "attachments": {},
   "cell_type": "markdown",
   "metadata": {},
   "source": [
    "![Oscillator](https://github.com/accdavlo/HighOrderODESolvers/raw/master/images/chapter1/nonLinearOscillator.png)"
   ]
  },
  {
   "cell_type": "code",
   "execution_count": null,
   "metadata": {},
   "outputs": [],
   "source": [
    "tt=np.linspace(0,100,100)\n",
    "u0=np.array([2,0])\n",
    "n0=np.sqrt(np.sum(u0**2))\n",
    "uu=np.zeros((len(u0),len(tt)))\n",
    "nt=np.zeros(len(tt))\n",
    "for it,t in enumerate(tt):\n",
    "    nt[it]=n0\n",
    "    theta=t/nt[it]\n",
    "    A=np.array([[np.cos(theta), -np.sin(theta)],[np.sin(theta), np.cos(theta)]])\n",
    "    uu[:,it]=np.dot(A,u0)\n",
    "    \n",
    "plt.figure()\n",
    "plt.plot(tt,uu[0,:])\n",
    "plt.plot(tt,uu[1,:])\n",
    "plt.show()\n",
    "\n",
    "plt.figure()\n",
    "plt.plot(uu[0,:],uu[1,:],'.')\n",
    "plt.show()"
   ]
  },
  {
   "cell_type": "markdown",
   "metadata": {},
   "source": [
    "#### Damped Nonlinear Oscillator\n",
    "\\begin{equation}\n",
    "\\begin{cases}\n",
    "u'(t)=-\\frac{v(t)}{n(t)}- \\alpha u\\\\\n",
    "v'(t)= \\frac{u(t)}{n(t)}- \\alpha v\\\\\n",
    "n(t):=\\sqrt{u^2(t)+v^2(t)}\n",
    "\\end{cases}\n",
    "\\end{equation}\n",
    "\n",
    "Energy $\\frac{n(t)^2}{2}$ is decreasing\n",
    "$$\n",
    "\\frac{d}{dt}\\left(\\frac{n^2}{2}\\right)=\\frac{d}{dt}\\left(\\frac{u^2+v^2}{2}\\right)=u\\frac{du}{dt}+v\\frac{dv}{dt}=-u\\frac{v}{n}-\\alpha u^2+v\\frac{u}{n}-\\alpha v^2=-2\\alpha\\left(\\frac{n^2(t)}{2}\\right)\\leq 0,\\\\\n",
    "\\frac{n^2(t)}{2}=e^{-2\\alpha t}\\frac{n^2(0)}{2},\\\\\n",
    "n(t) = e^{-\\alpha t} n(0).\n",
    "$$\n",
    "\n",
    "Exact solution\n",
    "$$\n",
    "\\begin{pmatrix}\n",
    "u\\\\v\n",
    "\\end{pmatrix}= e^{-\\alpha t} \\begin{pmatrix} \\cos(\\theta) &-\\sin(\\theta)\\\\ \\sin(\\theta) & \\cos(\\theta)\\end{pmatrix}\\begin{pmatrix}\n",
    "u^0\\\\v^0\n",
    "\\end{pmatrix}, \\qquad \\theta(t):= \\frac{e^{\\alpha t}-1}{\\alpha n(t)}.\n",
    "$$"
   ]
  },
  {
   "attachments": {},
   "cell_type": "markdown",
   "metadata": {},
   "source": [
    "![Damped Oscillator](https://github.com/accdavlo/HighOrderODESolvers/raw/master/images/chapter1/dampedNonLinearOscillator.png)"
   ]
  },
  {
   "cell_type": "code",
   "execution_count": 12,
   "metadata": {},
   "outputs": [
    {
     "data": {
      "image/png": "[encoded data removed]",
      "text/plain": [
       "<Figure size 432x288 with 1 Axes>"
      ]
     },
     "metadata": {
      "needs_background": "light"
     },
     "output_type": "display_data"
    },
    {
     "data": {
      "image/png": "[encoded data removed]",
      "text/plain": [
       "<Figure size 432x288 with 1 Axes>"
      ]
     },
     "metadata": {
      "needs_background": "light"
     },
     "output_type": "display_data"
    }
   ],
   "source": [
    "tt=np.linspace(0,100,1000)\n",
    "alpha=0.01\n",
    "u0=np.array([2,0])\n",
    "n0=np.sqrt(np.sum(u0**2))\n",
    "uu=np.zeros((len(u0),len(tt)))\n",
    "nt=np.zeros(len(tt))\n",
    "for it,t in enumerate(tt):\n",
    "    nt[it]=np.exp(-alpha*t)*n0\n",
    "    theta=(np.exp(alpha*t)-1)/alpha/nt[it]\n",
    "    A=np.array([[np.cos(theta), -np.sin(theta)],[np.sin(theta), np.cos(theta)]])\n",
    "    uu[:,it]=np.exp(-alpha*t)*np.dot(A,u0)\n",
    "    \n",
    "plt.figure()\n",
    "plt.plot(tt,uu[0,:])\n",
    "plt.plot(tt,uu[1,:])\n",
    "plt.show()\n",
    "\n",
    "plt.figure()\n",
    "plt.plot(uu[0,:],uu[1,:],'.')\n",
    "plt.show()"
   ]
  },
  {
   "cell_type": "markdown",
   "metadata": {},
   "source": [
    "#### Non linear pendulum\n",
    "After adimensionalizations ti can be written as \n",
    "\n",
    "$$u''=-\\sin(u)$$\n",
    "\n",
    "in our notation becomes\n",
    "\n",
    "$$\n",
    "\\begin{cases}\n",
    "u'=v\\\\\n",
    "v'=-\\sin(u)\n",
    "\\end{cases}\n",
    "$$\n",
    "\n",
    "The total energy (kinetic + potential)\n",
    "\n",
    "$$\n",
    "\\eta(t)=\\frac{1}{2}v^2-\\cos(u)\n",
    "$$\n",
    "is conserved.\n",
    "\n",
    "$$\n",
    "\\frac{d\\eta(t)}{dt}=v\\frac{dv}{dt}+\\sin(u)\\frac{du}{dt}=-v\\sin(u)+\\sin(u)v=0.\n",
    "$$"
   ]
  },
  {
   "attachments": {},
   "cell_type": "markdown",
   "metadata": {},
   "source": [
    "![pendulum](https://github.com/accdavlo/HighOrderODESolvers/raw/master/images/chapter1/Pendulum_135deg.gif)"
   ]
  },
  {
   "cell_type": "markdown",
   "metadata": {},
   "source": [
    "#### Robertson's problem\n",
    "It is a stiff problem where the time scales vary a lot. It is the equation for a chemical reaction system.\n",
    "It consists of  \n",
    "\n",
    "\\begin{equation}\n",
    " \\begin{cases}\n",
    "  c_1'(t)&=10^4c_2(t)c_3(t)-0.04c_1(t),\\\\\n",
    "  c_2'(t)&= 0.04c_1(t)-10^4c_2(t)c_3(t)-3\\cdot 10^7c_2(t)^2,\\\\\n",
    "  c_3'(t)&=3\\cdot 10^7c_2(t)^2\n",
    " \\end{cases}\n",
    "\\end{equation}\n",
    "with initial conditions\n",
    "\n",
    "$c^0=(1,0,0)$\n",
    "\n",
    "Again we preserve the total mass \n",
    "\n",
    "$$\n",
    "c_1'+c_2'+c_3'=0,\n",
    "$$\n",
    "\n",
    "all the quantities stay nonnegative $c_i(t)\\geq 0$."
   ]
  },
  {
   "attachments": {},
   "cell_type": "markdown",
   "metadata": {},
   "source": [
    "![Robertson](https://github.com/accdavlo/HighOrderODESolvers/raw/master/images/chapter1/Robertson.png)"
   ]
  },
  {
   "cell_type": "markdown",
   "metadata": {},
   "source": [
    "#### SIR model\n",
    "Well known in these days, SIR models the development of a sickness in a population. The population is subdivided into $S$ susceptible, $I$ infected and $R$ recovered.\n",
    "\n",
    "$$\n",
    "\\begin{cases}\n",
    "S'= -\\beta I\\frac{S}{N}\\\\\n",
    "I' = \\beta I \\frac{S}{N} - \\gamma I\\\\\n",
    "R' = \\gamma I\\\\\n",
    "N=S+I+R\n",
    "\\end{cases}\n",
    "$$\n",
    "\n",
    "Total population $N$ does not change\n",
    "$$\n",
    "N'=S'+I'+R'=0,\n",
    "$$\n",
    "all the classes stay nonnegative $S,I,R\\geq 0$."
   ]
  },
  {
   "cell_type": "markdown",
   "metadata": {},
   "source": [
    "![SIR simulation and data](https://upload.wikimedia.org/wikipedia/commons/a/ac/SIR_trajectory.png)"
   ]
  },
  {
   "cell_type": "markdown",
   "metadata": {},
   "source": [
    "#### Semidiscretized PDE\n",
    "Suppose we want to solve a time dependent PDE, e.g. find $U(x,t):\\Omega \\times [0,T] \\to \\mathbb{R}^d$\n",
    "\n",
    "$$\n",
    "\\partial_t U + \\partial_{xx}(a(U)) + \\partial_x b(U) +c(U)=0, \\qquad \\forall x\\in \\Omega, \\, \\forall t \\in [0,T].\n",
    "$$\n",
    "\n",
    "Once discretized the spatial domain, we obtain a vector $\\underline{U}\\in \\mathbb{R}^N$ and we can discretize the operators $a,b,c$ with our favorite method (FV, FD, FEM, DG), obtaining\n",
    "\n",
    "$$\n",
    "\\partial_t \\underline{U} + D_2A(\\underline{U}) + DB(\\underline{U}) +C(\\underline{U})=0, \\qquad \\forall t \\in [0,T].\n",
    "$$\n",
    "\n",
    "Then, defining $f(\\underline{U}):=-\\left(  D_2A(\\underline{U}) + DB(\\underline{U}) +C(\\underline{U})\\right)$, we can solve the ODE\n",
    "\n",
    "$$\n",
    "\\partial_t \\underline{U} = f(\\underline{U}).\n",
    "$$\n",
    "\n",
    "#### Semidiscretized conservation law\n",
    "If we deal with a (scalar) hyperbolic conservation law, with $b$ a convex function,\n",
    "\n",
    "$$\n",
    "\\partial_t U(x,t) + \\partial_x b(U(x,t))=0, \n",
    "$$\n",
    "\n",
    "a property we might be interested in preserving also at the discrete level is the total variation diminishing (TVD) character of the weak solution, i.e.,\n",
    "\n",
    "$$\n",
    "\\sum_{i} |U^{n+1}_i -U^{n+1}_{i-1}|\\leq |U^{n}_i -U^{n}_{i-1}|.\n",
    "$$\n",
    "\n",
    "Indeed, there are TVD fluxes for FV/FD schemes.\n",
    "\n",
    "For example, there is interest in building schemes such that they can be written in the incremental form\n",
    "\n",
    "$$\n",
    "U^{n+1}_j=U^{n}_j +\\Delta t \\left [ C_{j+1/2}(U_{j+1}^n-U_{j}^n)-D_{j-1/2}(U_{j}^n-U_{j-1}^n) \\right]\n",
    "$$\n",
    "\n",
    "where $C_{j+1/2},D_{j+1/2}\\geq 0$ and $\\Delta t (C_{j+1/2}+D_{j+1/2})\\leq 1$.\n",
    "\n",
    "This form guarantees that the explicit Euler method we have written above is TVD."
   ]
  },
  {
   "cell_type": "markdown",
   "metadata": {},
   "source": [
    "## Properties of some ODEs to keep in mind when discretizing  <a id='properties'></a>\n",
    "#### Entropy/Energy/Liyapunov conservation/dissipation\n",
    "\n",
    "We have seen in the previous examples that many ODE systems preserve some quantity of interest. It might be the physical energy, the total mass, an entropy or another Liyapunov functional. \n",
    "It might be important to preserve these properties also in the discrete settings, for example, denoting with $\\eta$ the quantity we would like to preserve (or dissipate) we might want to require\n",
    "\n",
    "\\begin{equation}\n",
    "\\eta(u^{n+1})\\stackrel{(\\leq)}{=}\\eta(u^n).\n",
    "\\end{equation}\n",
    " \n",
    "#### Positivity/TVD\n",
    "A positive system is such that, given initial conditions $y_i^0\\geq 0 \\, \\forall i$, then the system stays positive for all times $y_i(t)\\geq 0,\\ \\forall t,\\, \\forall i$.\n",
    "This is the case of many physical, biological, chemical models, where the amount of some quantities must stay nonnegative.\n",
    "\n",
    "Mathematically this condition is  met if $F\\in \\mathcal C(\\mathbb R^S)$ is such that, when $y_i\\to 0$, then $F(t,y)_i\\geq 0$. \n",
    "More formally one can write\n",
    "\n",
    "$$\n",
    "\\lim_{y_i\\to 0^+} F(t,y)_i \\geq 0, \\, \\forall t \\in \\mathbb R, \\, \\forall y_j \\in \\mathbb R^+ \\text{ with }j\\neq i.\n",
    "$$\n",
    "\n",
    "By contradiction one can prove that this prevents $y_i$ to become negative.\n",
    "\n",
    "Again, one may want to preserve this property in the discrete solution."
   ]
  },
  {
   "attachments": {},
   "cell_type": "markdown",
   "metadata": {},
   "source": [
    "## Existence and uniqueness of solutions (briefly) <a id='existence'></a>\n",
    "\n",
    "Let us write the ODE on $I:=[t_0, t_{end}]\\subset \\mathbb{R}$, the unknown variable $y:I\\to \\mathbb{R}^{S}$ and the *continuous* function $F:I\\times \\mathbb{R}^S\\to\\mathbb{R}^S$. The initial value problem (IVP) (or Cauchy problem) of a system of ODEs  written as \n",
    "\n",
    "$$\n",
    "\\begin{equation}\n",
    "\\begin{cases}\n",
    "\\frac{dy}{dt} = F(t,y(t)),\\\\\n",
    "y(0)=y_0.\n",
    "\\end{cases}\n",
    "\\end{equation}\n",
    "$$\n",
    "\n",
    "### Theorem (Cauchy-Peano) Existence\n",
    "Assume that $F$ is continuous in a neighbourhood of $(t_0,y_0) \\in I \\times \\mathbb R^S$. Then, there exists an interval $J$,  neighbourhood of $y_0$, such that $y'(t)=F(t,y(t))$ for all $t\\in J$.\n",
    "\n",
    "\n",
    "The proof of the theorem the integral form of the ODE and builds a family of equicontinuous solutions in $\\mathcal C^0(J)$, then it uses Ascoli-Arzelà.\n",
    "\n",
    "This defines the concept of **local solutions** that can be extended to larger intervals, until having a **global solution**.\n",
    "\n",
    "Now, if we look for a solution, we would like to know if there is more than one. For example\n",
    "\n",
    "$$\n",
    "\\begin{cases} y'=\\sqrt{|y|} \\\\ y(0)=0 \\end{cases}\n",
    "$$\n",
    "has multiple solutions.\n",
    "Consider $y(t)=0$. This is a solution.\n",
    "\n",
    "And $y=t^{2}/4$ is also a solution.\n",
    "\n",
    "Which one should we consider?"
   ]
  },
  {
   "cell_type": "code",
   "execution_count": null,
   "metadata": {},
   "outputs": [],
   "source": [
    "tt=np.linspace(-10,10,100)\n",
    "yy0=0*tt;\n",
    "yy1=tt**2./4.\n",
    "plt.plot(tt,yy0)\n",
    "plt.plot(tt,yy1)"
   ]
  },
  {
   "cell_type": "markdown",
   "metadata": {},
   "source": [
    "### Theorem (Cauchy-Lipschitz) Uniqueness\n",
    "If $F$ is Lipschitz continuous on $I\\times \\mathbb R^S$ with constant $L$, i.e., for any $(t,y)$ and $(t,z)\\in I \\times \\mathbb R^S$ \n",
    "$$\n",
    "||F(t,y)-F(t,z)||\\leq L ||y-z||,\n",
    "$$\n",
    "then the problem has a unique solution.\n",
    "\n",
    "#### Proof Ingredients\n",
    "* Fixed point theorem\n",
    "* Integral form\n",
    "* Gronwall Lemma\n",
    "\n",
    "Under this assumption it makes sense to search for the *exact* solution and try to get it or a **good approximation** of it!"
   ]
  },
  {
   "cell_type": "markdown",
   "metadata": {},
   "source": [
    "### Regularity of the solution\n",
    "Let $y\\in \\mathcal C^1(I)$ be the solution of the ODE \n",
    "\n",
    "\n",
    "$$\n",
    "\\begin{equation}\n",
    "\\begin{cases}\n",
    "\\frac{dy}{dt} = F(t,y(t)),\\\\\n",
    "y(0)=y_0.\n",
    "\\end{cases}\n",
    "\\end{equation}\n",
    "$$\n",
    "\n",
    "If $F\\in \\mathcal{C}$ is $p$ times differentiable in $(t,y(t))$, then $y$ is $p+1$ times differentiable at $t$ and \n",
    "\n",
    "$$\n",
    "y^{(p+1)}(t)=F^{(p)}(t,y(t)),\n",
    "$$\n",
    "\n",
    "where $F^{(l)}$ are defined recursively as\n",
    "\n",
    "$$\n",
    "F^{(0)}(t,y)=F(t,y),\\\\\n",
    "F^{(l+1)}(t,y)= \\frac{\\partial F^{(l)}}{\\partial t}(t,y)+\\frac{\\partial F^{(l)}}{\\partial y}(t,y).\n",
    "$$"
   ]
  }
 ],
 "metadata": {
  "kernelspec": {
   "display_name": "Python 3",
   "language": "python",
   "name": "python3"
  },
  "language_info": {
   "codemirror_mode": {
    "name": "ipython",
    "version": 3
   },
   "file_extension": ".py",
   "mimetype": "text/x-python",
   "name": "python",
   "nbconvert_exporter": "python",
   "pygments_lexer": "ipython3",
   "version": "3.6.9"
  },
  "vscode": {
   "interpreter": {
    "hash": "31f2aee4e71d21fbe5cf8b01ff0e069b9275f58929596ceb00d14d90e3e16cd6"
   }
  }
 },
 "nbformat": 4,
 "nbformat_minor": 4
}
