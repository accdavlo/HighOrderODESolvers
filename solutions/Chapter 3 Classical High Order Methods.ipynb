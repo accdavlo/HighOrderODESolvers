{
 "cells": [
  {
   "cell_type": "markdown",
   "metadata": {},
   "source": [
    "# Classical High Order Methods"
   ]
  },
  {
   "attachments": {},
   "cell_type": "markdown",
   "metadata": {},
   "source": [
    "### Table of contents\n",
    " 1. Chapter 3: Classical Methods\n",
    "    1. [Section 1.1: Runge Kutta](#RK)\n",
    "    1. [Section 1.2: Multistep methods](#multistep)"
   ]
  },
  {
   "cell_type": "code",
   "execution_count": 1,
   "metadata": {},
   "outputs": [],
   "source": [
    "# Loading/installing packages\n",
    "\n",
    "# This is the basic package in python with all the numerical functions\n",
    "try:\n",
    "    import numpy as np\n",
    "except ImportError:\n",
    "    %pip install numpy\n",
    "    import numpy as np\n",
    "\n",
    "# This package allows to  plot\n",
    "try:\n",
    "    import matplotlib.pyplot as plt \n",
    "except ImportError:\n",
    "    %pip install matplotlib\n",
    "    import matplotlib.pyplot as plt \n",
    "\n",
    "#This package already implemented some functions for Runge Kutta and multistep methods\n",
    "try:\n",
    "    from nodepy import rk\n",
    "except ImportError:\n",
    "    %pip install nodepy\n",
    "    from nodepy import rk"
   ]
  },
  {
   "cell_type": "code",
   "execution_count": 2,
   "metadata": {},
   "outputs": [],
   "source": [
    "# Download collection of ODE problems\n",
    "try:\n",
    "    from ODEproblems import ODEproblem\n",
    "except ImportError:\n",
    "    ![ -f ODEproblems.py ] || wget https://github.com/accdavlo/HighOrderODESolvers/raw/master/ODEproblems.py -O ODEproblems.py\n",
    "    from ODEproblems import ODEproblem"
   ]
  },
  {
   "cell_type": "markdown",
   "metadata": {},
   "source": [
    "* How to obtain generalizations of the Euler methods?\n",
    "* How can we obtain higher order of accuracy $\\Delta t^p$?"
   ]
  },
  {
   "cell_type": "markdown",
   "metadata": {},
   "source": [
    "![Generalization of Euler](https://github.com/accdavlo/HighOrderODESolvers/raw/master/images/chapter2/generalizeEuler.png)"
   ]
  },
  {
   "cell_type": "markdown",
   "metadata": {},
   "source": [
    "## Runge Kutta Methods <a id='RK'></a>"
   ]
  },
  {
   "attachments": {},
   "cell_type": "markdown",
   "metadata": {},
   "source": [
    "The basic idea of Runge--Kutta methods is to introduce further stages inside the computation of one step, in order to achieve higher order of accuracy.\n",
    "\n",
    "### $\\theta$ method\n",
    "\n",
    "For example consider the following method:\n",
    "\n",
    "$$\n",
    "y^{*}=y^n +\\theta \\Delta t F(t^n,y^n)\\\\\n",
    "y^{n+1} = y^n +\\Delta t \\left( \\frac{2\\theta-1}{2\\theta}F(t^n,y^n) + \\frac{1}{2\\theta} F(t^n+\\theta\\Delta t,y^*) \\right).\n",
    "$$\n",
    "\n",
    "We introduced 1 extra stage. Do we get an extra order?\n",
    "\n",
    "#### Taylor expansion for local truncation\n",
    "Suppose that $y^n=y(t^n)$, define $t^*=t^n+\\theta \\Delta t$, and suppose that $F$ does not depends explicitly on time,\n",
    "\n",
    "$$\n",
    "\\begin{align}\n",
    "y(t^{n+1})&=y^n + \\Delta t y'(t^n) + \\frac{\\Delta t^2}{2} y''(t^n) + \\mathcal{O}(\\Delta t^3)\\\\\n",
    "y(t^{*})&=y^n + \\theta\\Delta t y'(t^n) + \\frac{\\theta^2\\Delta t^2}{2} y''(t^n) + \\mathcal{O}(\\Delta t^3)\\\\\n",
    "y^{*} &= y^n + \\theta \\Delta t F(y^n) = y(t^*)+ \\mathcal{O}(\\Delta t^2)\\\\\n",
    "y^{n+1} &= y^n +\\Delta t \\left( \\frac{2\\theta-1}{2\\theta}F(y^n) + \\frac{1}{2\\theta} F(y^*) \\right)\\\\\n",
    "&= y^n +\\Delta t \\left( \\frac{2\\theta-1}{2\\theta}y'(t^n) + \\frac{1}{2\\theta} F(y^n+\\theta \\Delta t y'(t^n)) \\right) + \\mathcal{O}(\\Delta t^3)\\\\\n",
    "&= y^n +\\Delta t \\left( \\frac{2\\theta-1}{2\\theta}y'(t^n) + \\frac{1}{2\\theta} F(y^n)+\\frac{1}{2\\theta} \\frac{dF}{dy}(y^n)\\theta \\Delta t y'(t^n)  \\right) + \\mathcal{O}(\\Delta t^3)\\\\\n",
    "&= y^n +\\Delta t \\left( \\frac{2\\theta-1}{2\\theta}y'(t^n) + \\frac{1}{2\\theta} y'(t^n)+\\frac{1}{2\\theta} \\frac{dF}{dt}(y^n)\\theta \\Delta t   \\right) + \\mathcal{O}(\\Delta t^3)\\\\\n",
    "&= y^n +\\Delta t \\left( y'(t^n)+\\frac{1}{2\\theta} \\frac{d}{dt}(y'(t^n))\\theta \\Delta t   \\right) + \\mathcal{O}(\\Delta t^3)\\\\\n",
    "&= y^n +\\Delta t \\left( y'(t^n)+\\frac{1}{2} y''(t^n) \\Delta t   \\right) + \\mathcal{O}(\\Delta t^3)=y(t^{n+1})+\\mathcal{O}(\\Delta t^3).\n",
    "\\end{align}\n",
    "$$\n",
    "\n",
    "So, second order in the **global** error."
   ]
  },
  {
   "attachments": {},
   "cell_type": "markdown",
   "metadata": {},
   "source": [
    "### General formulation\n",
    "A general Runge--Kutta method with $S$ stages can be written using a Butcher tableau\n",
    "$$\n",
    "\\begin{array}\n",
    "{c|c}\n",
    "c&A\\\\\n",
    "\\hline\n",
    "& b^T\n",
    "\\end{array}\n",
    "$$\n",
    "where $A\\in \\mathbb R^{S\\times S},\\, b,c\\in\\mathbb R^S$, in the following formulation\n",
    "\n",
    "$$\n",
    "\\begin{cases}\n",
    "y^{(k)}=y^n + \\Delta t \\sum_{j=1}^S a_{kj} F(t^n+c_j\\Delta t,y^{(j)}), \\quad k=1,\\dots, S,\\\\\n",
    "y^{n+1} = y^n+ \\Delta t \\sum_{j=1}^S b_{j} F(t^n+c_j\\Delta t,y^{(j)})\n",
    "\\end{cases}\n",
    "$$\n",
    "\n",
    "To be an **explicit** scheme $A$ must be a strictly low-triangular matrix, i.e., $a_{ij}=0$ if $j\\geq i$. So they can be written as \n",
    "$$\n",
    "\\begin{cases}\n",
    "y^{(k)}=y^n + \\Delta t \\sum_{j=1}^{k-1} a_{kj} F(t^n+c_j\\Delta t,y^{(j)}), \\quad k=1,\\dots, S,\\\\\n",
    "y^{n+1} = y^n+ \\Delta t \\sum_{j=1}^S b_{j} F(t^n+c_j\\Delta t,y^{(j)})\n",
    "\\end{cases}\n",
    "$$\n",
    "\n",
    "#### Example $\\theta$ scheme\n",
    "The $\\theta$ scheme we have seen before can be written as\n",
    "\n",
    "$$\n",
    "\\begin{array}\n",
    "{c|cc}\n",
    "0\\\\\n",
    "\\theta & \\theta\\\\\n",
    "\\hline\n",
    "& \\frac{2\\theta -1}{2\\theta} &\\frac{1}{2\\theta} \n",
    "\\end{array}\n",
    "$$\n",
    "\n",
    "We see that the scheme is explicit, because there is nothing on the top right of $A$."
   ]
  },
  {
   "cell_type": "markdown",
   "metadata": {},
   "source": [
    "### Order of explicit RK schemes\n",
    "How do we know that a RK scheme has a certain order?\n",
    "For $\\theta $ method we have written the Taylor expansion up to the order we were expecting and we matched the coefficients of the exact solution with the one of the approximated solutions at all the steps.\n",
    "\n",
    "If one wants to generalize this conditions using the Taylor expansion, it takes long, but you can get to similar results"
   ]
  },
  {
   "cell_type": "markdown",
   "metadata": {},
   "source": [
    "![Generalization of Euler](https://github.com/accdavlo/HighOrderODESolvers/raw/master/images/chapter2/orderCOnditionRK4.png)"
   ]
  },
  {
   "cell_type": "markdown",
   "metadata": {},
   "source": [
    "Where the first condition is for order 1 RK methods,\n",
    "\n",
    "the first 2 conditions are for order 2 RK methods,\n",
    "\n",
    "the first 4 conditions are for order 3 RK methods,\n",
    "\n",
    "all the 8 conditions are for order 4 RK methods.\n",
    "\n",
    "\n",
    "* How can the conditions be computed without doing the Taylor expansions?"
   ]
  },
  {
   "cell_type": "markdown",
   "metadata": {},
   "source": [
    "#### Trees \n",
    "A very smart way of computing all the conditions is given by combinatorial arguments that can be represented as trees. \n",
    "You can find the proof in [Butcher](https://onlinelibrary.wiley.com/doi/book/10.1002/9781119121534)"
   ]
  },
  {
   "cell_type": "markdown",
   "metadata": {},
   "source": [
    "![Tree Order](https://github.com/accdavlo/HighOrderODESolvers/raw/master/images/chapter2/treeOrder.png)"
   ]
  },
  {
   "cell_type": "markdown",
   "metadata": {},
   "source": [
    "A tree is an object with nodes and branches as in figure, with **leaves** on top (nodes without further branches outward going) and a **root** at the bottom (the node with only branches outgoing).\n",
    "\n",
    "The **order** of a tree is the number of nodes in that tree.\n",
    "\n",
    "A RK scheme is of order $p$ if all the trees of order less or equal to $p$ verify certain conditions.\n",
    "\n",
    "All the conditions that must verified are of the type $\\Phi(a_{ij},b_i,c_j)=\\frac{1}{\\gamma}$ polynomial in the coefficients of the Butcher tableau equal to the inverse of an integer. \n",
    "For every tree is very easy to compute such polynomial $\\Phi$ and the integer $\\gamma$.\n",
    "\n",
    "Here is an example:"
   ]
  },
  {
   "cell_type": "markdown",
   "metadata": {},
   "source": [
    "![Tree Order](https://github.com/accdavlo/HighOrderODESolvers/raw/master/images/chapter2/treePoly.png)"
   ]
  },
  {
   "cell_type": "markdown",
   "metadata": {},
   "source": [
    "For order 4 we have all these trees and conditions"
   ]
  },
  {
   "cell_type": "markdown",
   "metadata": {},
   "source": [
    "![Tree Order](https://github.com/accdavlo/HighOrderODESolvers/raw/master/images/chapter2/treesOrder4.png)"
   ]
  },
  {
   "cell_type": "markdown",
   "metadata": {},
   "source": [
    "Reminder: an explicit RK method with $S$ stages has $\\frac{S^2+3S-2}{2}$ coefficients.\n",
    "\n",
    "| Stages/Order  | Trees | Conditions | Explicit RK coefficient |\n",
    "|---|---|---|---|\n",
    "| 1  | 1  | 1  | 1  |\n",
    "| 2  | 1  | 2  | 4  |\n",
    "| 3  | 2  | 4  | 8  |\n",
    "| 4  | 4  | 8  | 13  |\n",
    "| 5  | 9  | 17  | 19  |\n",
    "| 6  | 20 | 37  | 26  |\n",
    "| 7  | 48 | 85     | 34  |\n",
    "| 8  | 115 | 200   | 43  |\n",
    "| 9  | 286 | 486   | 53  |\n",
    "| 10 | 719 | 1205  | 64  |\n",
    "\n",
    "Moreover, the solution of these conditions should be admissible. For example, there is no 5 stages 5th order explicit RK method, one needs 6 stages. As well, some of the relations may be redundant. Building higher order explicit Runge Kutta method is a challenge.\n",
    "\n",
    "An extract of Butcher"
   ]
  },
  {
   "cell_type": "markdown",
   "metadata": {},
   "source": [
    "![Higher Order Butcher](https://github.com/accdavlo/HighOrderODESolvers/raw/master/images/chapter2/orderVsStages.png)"
   ]
  },
  {
   "attachments": {},
   "cell_type": "markdown",
   "metadata": {},
   "source": [
    "#### Theorem 324C [Butcher](https://onlinelibrary.wiley.com/doi/book/10.1002/9781119121534)\n",
    "For any positive integer $p$, an explicit RK method exists with order $p$ and $S$ stages, where\n",
    "$$\n",
    "S=\\begin{cases}\n",
    "\\frac{3p^2-10p+24}{8}, \\quad & p \\text{ even,}\\\\\n",
    "\\frac{3p^2-4p+9}{8}, \\quad & p \\text{ odd.}\n",
    "\\end{cases}\n",
    "$$\n",
    "\n",
    "| Order  | Stages  |\n",
    "|---|---|\n",
    "| 1  | 1  |\n",
    "| 2  | 2  | \n",
    "| 3  | 3  |\n",
    "| 4  | 4  | \n",
    "| 5  | 8  |\n",
    "| 6  | 9  | \n",
    "| 7  | 16 |\n",
    "| 8  | 17 |\n",
    "| 9  | 27 | \n",
    "| 10 | 28 | "
   ]
  },
  {
   "cell_type": "markdown",
   "metadata": {},
   "source": [
    "Examples of explicit RK4\n",
    "$$\n",
    "\\begin{array}\n",
    "{c|cccc}\n",
    "0\\\\\n",
    "\\frac{1}{2} & \\frac{1}{2}\\\\\n",
    "\\frac{1}{2} &0 &\\frac{1}{2} \\\\\n",
    "1& 0& 0& 1\\\\\n",
    "\\hline\n",
    "& \\frac{1}{6} &\\frac{1}{3} &\\frac{1}{3} &\\frac{1}{6} \n",
    "\\end{array} \\qquad  \\begin{array}\n",
    "{c|cccc}\n",
    "0\\\\\n",
    "\\frac{1}{4} & \\frac{1}{4}\\\\\n",
    "\\frac{1}{2} &0 &\\frac{1}{2} \\\\\n",
    "1& 1& -2& 2\\\\\n",
    "\\hline\n",
    "& \\frac{1}{6} &0 &\\frac{2}{3} &\\frac{1}{6} \n",
    "\\end{array}\n",
    "$$\n",
    "\n",
    "An explicit RK5\n",
    "$$\n",
    "\\begin{array}\n",
    "{c|cccccc}\n",
    "0\\\\\n",
    "\\frac{1}{4} & \\frac{1}{4}\\\\\n",
    "\\frac{1}{4} &\\frac{1}{8} &\\frac{1}{8} \\\\\n",
    "\\frac{1}{2}& 0& 0& \\frac{1}{2}\\\\\n",
    "\\frac{3}{4}& \\frac{3}{16}& -\\frac{3}{8}& \\frac{3}{8}&\\frac{9}{16}\\\\\n",
    "1& -\\frac{3}{7}& \\frac{8}{7}& \\frac{6}{7} & -\\frac{12}{7} & \\frac{8}{7}\\\\\n",
    "\\hline\n",
    "& \\frac{7}{90}&0 &\\frac{32}{90} &\\frac{12}{90} &\\frac{32}{90}&\\frac{7}{90} \n",
    "\\end{array} \n",
    "$$"
   ]
  },
  {
   "cell_type": "code",
   "execution_count": 11,
   "metadata": {},
   "outputs": [
    {
     "name": "stdout",
     "output_type": "stream",
     "text": [
      "Forward Euler\n",
      "\n",
      " 0 |\n",
      "___|___\n",
      "   | 1\n",
      "Midpoint\n",
      "\n",
      " 0.000 |\n",
      " 0.500 | 0.500\n",
      "_______|______________\n",
      "       | 0      1\n",
      "RK3\n",
      "\n",
      " 0.000 |\n",
      " 0.667 | 0.667\n",
      " 0.667 | 0.333  0.333\n",
      "_______|_____________________\n",
      "       | 0.250  0.000  0.750\n",
      "Classical RK4\n",
      "The original four-stage, fourth-order method of Kutta\n",
      " 0   |\n",
      " 1/2 | 1/2\n",
      " 1/2 |      1/2\n",
      " 1   |           1\n",
      "_____|____________________\n",
      "     | 1/6  1/3  1/3  1/6\n"
     ]
    }
   ],
   "source": [
    "rk1 = rk.loadRKM('FE') # Forward euler)\n",
    "print(rk1)\n",
    "\n",
    "A=np.array([[0,0],[1/2,0]])\n",
    "b=np.array([0,1])\n",
    "rk2 = rk.ExplicitRungeKuttaMethod(A,b)\n",
    "rk2.name = \"Midpoint\"\n",
    "print(rk2)\n",
    "\n",
    "\n",
    "A=np.array([[0,0,0],[2/3,0,0],[1/3,1/3,0]])\n",
    "b=np.array([1/4,0,3/4])\n",
    "rk3 = rk.ExplicitRungeKuttaMethod(A,b)\n",
    "rk3.name = \"RK3\"\n",
    "\n",
    "print(rk3)\n",
    "\n",
    "\n",
    "rk44=rk.loadRKM('RK44')\n",
    "print(rk44)\n"
   ]
  },
  {
   "cell_type": "code",
   "execution_count": 12,
   "metadata": {},
   "outputs": [],
   "source": [
    "## explicit RK method\n",
    "def explicitRK(flux, tspan, y_0, A, b, c):\n",
    "    # Solving u'=F(u,t)\n",
    "    # input: flux=F, tspan is a vector of times determining the RK steps\n",
    "    # input: y_0 the initial condition\n",
    "    # input: A,b,c are matrix and vectors of RK methods\n",
    "    N_time=len(tspan)  # N+1\n",
    "    dim=len(y_0)          # S\n",
    "    y=np.zeros((dim,N_time))    # initializing the variable of solutions    \n",
    "    y[:,0]=y_0                 # first timestep \n",
    "    S=np.shape(A)[0]\n",
    "    u=np.zeros((dim,S))       # Internal stages\n",
    "    Fu=np.zeros((dim,S))       # Flux at internal stages\n",
    "    for n in range(N_time-1):    # n=0,..., N-1\n",
    "        delta_t=tspan[n+1]-tspan[n]\n",
    "        for k in range(S):\n",
    "            u[:,k]=y[:,n] \n",
    "            for j in range(k):\n",
    "                u[:,k] =u[:,k]+ delta_t*A[k,j]*Fu[:,j]\n",
    "            Fu[:,k] = flux(u[:,k],tspan[n]+delta_t*c[k])\n",
    "        y[:,n+1]=y[:,n]\n",
    "        for j in range(S):\n",
    "            y[:,n+1]=y[:,n+1]+delta_t*b[j]*Fu[:,j]\n",
    "    return tspan, y "
   ]
  },
  {
   "cell_type": "code",
   "execution_count": 13,
   "metadata": {},
   "outputs": [
    {
     "data": {
      "text/plain": [
       "[<matplotlib.lines.Line2D at 0x7fd1dbe8c5c0>]"
      ]
     },
     "execution_count": 13,
     "metadata": {},
     "output_type": "execute_result"
    },
    {
     "data": {
      "image/png": "[encoded data removed]",
      "text/plain": [
       "<Figure size 432x288 with 1 Axes>"
      ]
     },
     "metadata": {
      "needs_background": "light"
     },
     "output_type": "display_data"
    }
   ],
   "source": [
    "pr=ODEproblem(\"linear_system2\")\n",
    "t_span=np.linspace(0,pr.T_fin,4)\n",
    "rk44=rk.loadRKM('RK44')\n",
    "tt,uu=explicitRK(pr.flux,t_span,pr.u0,rk44.A,rk44.b,rk44.c)\n",
    "plt.plot(tt,uu[0,:])\n",
    "plt.plot(tt,uu[1,:])"
   ]
  },
  {
   "cell_type": "code",
   "execution_count": 14,
   "metadata": {},
   "outputs": [
    {
     "data": {
      "text/plain": [
       "<matplotlib.legend.Legend at 0x7fd1dbf41748>"
      ]
     },
     "execution_count": 14,
     "metadata": {},
     "output_type": "execute_result"
    },
    {
     "data": {
      "image/png": "[encoded data removed]",
      "text/plain": [
       "<Figure size 432x288 with 1 Axes>"
      ]
     },
     "metadata": {
      "needs_background": "light"
     },
     "output_type": "display_data"
    }
   ],
   "source": [
    "def error(tt,yy):\n",
    "    errors=np.zeros(len(tt))\n",
    "    for it, t in enumerate(tt):\n",
    "        errors[it]=np.linalg.norm(yy[:,it]-pr.exact(yy[:,0],t))\n",
    "    return np.mean(errors)\n",
    "\n",
    "Ns=[2**k for k in range(1,10)]\n",
    "solvers=[rk1,rk2,rk3,rk44]\n",
    "\n",
    "errorEx=np.zeros((len(solvers),len(Ns)))\n",
    "dts=    np.zeros(len(Ns))\n",
    "\n",
    "\n",
    "\n",
    "for iN, N in enumerate(Ns):\n",
    "    tspan=np.linspace(0,pr.T_fin,N)\n",
    "    dts[iN]=tspan[1]-tspan[0]\n",
    "    for iS, rkm in enumerate(solvers):\n",
    "        tt,yy=explicitRK(pr.flux,tspan,pr.u0,rkm.A,rkm.b,rkm.c)\n",
    "        errorEx[iS,iN]=error(tt,yy)\n",
    "\n",
    "plt.figure()\n",
    "for iS, rkm in enumerate(solvers):\n",
    "    plt.loglog(dts,errorEx[iS,:],label=rkm.name)\n",
    "    plt.loglog(dts,dts**(rkm.order()),\":\", label=\"order %d\"%(rkm.order()))\n",
    "plt.legend()"
   ]
  },
  {
   "cell_type": "code",
   "execution_count": 15,
   "metadata": {},
   "outputs": [
    {
     "data": {
      "image/png": "[encoded data removed]",
      "text/plain": [
       "<Figure size 432x288 with 1 Axes>"
      ]
     },
     "metadata": {
      "needs_background": "light"
     },
     "output_type": "display_data"
    }
   ],
   "source": [
    "pr=ODEproblem(\"nonLinearOscillator\")\n",
    "t_span=np.linspace(0,pr.T_fin,50)\n",
    "rk2=rk.loadRKM('Mid22')\n",
    "tt,uu=explicitRK(pr.flux,t_span,pr.u0,rk2.A,rk2.b,rk2.c)\n",
    "exact_sol = pr.exact_solution_times(pr.u0,tt)\n",
    "\n",
    "plt.plot(tt,uu[0,:])\n",
    "plt.plot(tt,uu[1,:])\n",
    "plt.plot(tt,exact_sol[0,:],\":\")\n",
    "plt.plot(tt,exact_sol[1,:],\":\")\n",
    "plt.show()"
   ]
  },
  {
   "attachments": {},
   "cell_type": "markdown",
   "metadata": {},
   "source": [
    "We see problems of instability!"
   ]
  },
  {
   "attachments": {},
   "cell_type": "markdown",
   "metadata": {},
   "source": [
    "## Stability\n",
    "As we have seen before for Euler, the stability can be evaluated on Dahlquist's equation\n",
    "\n",
    "$$ y'=qy$$ \n",
    "\n",
    "with $Re(q)\\leq 0$. Considering $z=\\Delta t q$ we want to write the RK methods on this problem as \n",
    "\n",
    "$$\n",
    "y^{n+1}=R(z)y^n\n",
    "$$\n",
    "\n",
    "and find the stability region $\\mathcal S=\\lbrace z\\in \\mathbb C : |R(z)|\\leq 1\\rbrace$.\n",
    "\n",
    "It is actually very simple to write the stability function $R$ for these problems. \n",
    "Let $Y\\in \\mathbb R^S$ be the solution of the RK method at all the stages, namely, it solves\n",
    "\n",
    "$$\n",
    "Y=\\mathbf{1}y^n + \\Delta t q A Y\n",
    "$$\n",
    "\n",
    "or\n",
    "\n",
    "$$\n",
    "(I-zA)Y=\\mathbf{1}y^n \\quad \\Leftrightarrow Y=(I-zA)^{-1}\\mathbf{1} y^n\n",
    "$$\n",
    "\n",
    "with $\\mathbf 1$ the vector of dimension $S$ with all entries equal to 1.\n",
    "\n",
    "Substituting this into the final update, we have\n",
    "\n",
    "$$\n",
    "y^{n+1} = y^n + z b^{T}Y=y^n + z b^T(I-zA)^{-1}\\mathbf{1} y^n = (1+ z b^T(I-zA)^{-1}\\mathbf{1}) y^n$$\n",
    "\n",
    "\n",
    "which gives a way of computing the stability region very efficiently with \n",
    "\n",
    "$$\n",
    "R(z) =1+ z b^T(I-zA)^{-1}\\mathbf{1}.\n",
    "$$"
   ]
  },
  {
   "cell_type": "code",
   "execution_count": 16,
   "metadata": {},
   "outputs": [
    {
     "data": {
      "image/png": "[encoded data removed]",
      "text/plain": [
       "<Figure size 432x288 with 1 Axes>"
      ]
     },
     "metadata": {
      "needs_background": "light"
     },
     "output_type": "display_data"
    },
    {
     "data": {
      "image/png": "[encoded data removed]",
      "text/plain": [
       "<Figure size 432x288 with 1 Axes>"
      ]
     },
     "metadata": {
      "needs_background": "light"
     },
     "output_type": "display_data"
    },
    {
     "data": {
      "image/png": "[encoded data removed]",
      "text/plain": [
       "<Figure size 432x288 with 1 Axes>"
      ]
     },
     "metadata": {
      "needs_background": "light"
     },
     "output_type": "display_data"
    },
    {
     "data": {
      "image/png": "[encoded data removed]",
      "text/plain": [
       "<Figure size 432x288 with 1 Axes>"
      ]
     },
     "metadata": {
      "needs_background": "light"
     },
     "output_type": "display_data"
    }
   ],
   "source": [
    "rk1.plot_stability_region(bounds=[-5,1,-5,5])\n",
    "rk2.plot_stability_region(bounds=[-5,1,-5,5])\n",
    "rk3.plot_stability_region(bounds=[-5,1,-5,5])\n",
    "rk44.plot_stability_region(bounds=[-5,1,-5,5]);"
   ]
  },
  {
   "attachments": {},
   "cell_type": "markdown",
   "metadata": {},
   "source": [
    "### Implicit RK schemes\n",
    "The implicit RK schemes are defined as usual RK schemes and have at least a nonzero element in the upper triangular part of $A$. \n",
    "They have the advantage of requiring **less stages** (with respect to explicit RK) to obtain the order of accuracy required and to be able to deal with stiff problems, so they have **larger stability regions**.\n",
    "\n",
    "For example \n",
    "\n",
    "$$\n",
    "\\begin{array}\n",
    "{c|cc}\n",
    "\\frac{1}{2}-\\frac{\\sqrt{3}}{6} & \\frac{1}{4} &\\frac{1}{4}-\\frac{\\sqrt{3}}{6}\\\\\n",
    "\\frac{1}{2}+\\frac{\\sqrt{3}}{6}  &\\frac{1}{4}+\\frac{\\sqrt{3}}{6} & \\frac{1}{4}\\\\\n",
    "\\hline\n",
    "& \\frac{1}{2} &\\frac{1}{2} \n",
    "\\end{array}\n",
    "$$\n",
    "\n",
    "has order 4. \n",
    "\n",
    "There are clever ways of building implicit RK methods using well known high order accurate quadrature rules.\n",
    "\n",
    "Take a quadrature rule of order $p$ with $S$ quadrature points $c_i \\in [0,1]$, provided with $S$ interpolation polynomials $\\varphi_i$, such that $\\varphi_i(c_j)=\\delta_{i,j}$ and\n",
    "\n",
    "$$\n",
    "y(t) = \\sum_{i=1}^S \\varphi_i(t) y(t^n+c_i\\Delta t) + \\mathcal{O}(\\Delta t^{p+1}), \\qquad \\forall t \\in [t^n,t^{n+1}].\n",
    "$$\n",
    "\n",
    "We can then define the $a_{ij}$ approximating \n",
    "\n",
    "$$\n",
    "y^{(i)}=y^n+\\int_{t^n}^{t^n+c_i\\Delta t} F(t,y(t))dt\\approx y^n+\\sum_{j} \\int_{t^n}^{t^n+c_i\\Delta t} \\varphi_j(t) dt F(t,y^{(j)})  \n",
    "$$\n",
    "\n",
    "so that\n",
    "\n",
    "$$\n",
    "a_{ij}:=\\int_{t^n}^{t^n+c_i\\Delta t} \\varphi_j(t) dt\n",
    "$$\n",
    "\n",
    "and similarly \n",
    "\n",
    "$$\n",
    "b_{j}:=\\int_{t^n}^{t^{n+1}} \\varphi_j(t) dt.\n",
    "$$\n",
    "\n",
    "This guarantees a high order quadrature rule also in the final step, keeping the right accuracy order in every step of the RK method."
   ]
  },
  {
   "attachments": {},
   "cell_type": "markdown",
   "metadata": {},
   "source": [
    "Using Gauss--Legendre polynomials one gets $p=2S$, examples\n",
    "\n",
    "\n",
    "$$\n",
    "\\begin{array}\n",
    "{c|c}\n",
    "\\frac{1}{2} & \\frac{1}{2}\\\\\n",
    "\\hline\n",
    "S=1, p=2 & 1 \n",
    "\\end{array}\n",
    "$$\n",
    "\n",
    "$$\n",
    "\\begin{array}\n",
    "{c|cc}\n",
    "\\frac{1}{2}-\\frac{\\sqrt{3}}{6} & \\frac{1}{4} &\\frac{1}{4}-\\frac{\\sqrt{3}}{6}\\\\\n",
    "\\frac{1}{2}+\\frac{\\sqrt{3}}{6}  &\\frac{1}{4}+\\frac{\\sqrt{3}}{6} & \\frac{1}{4}\\\\\n",
    "\\hline\n",
    "S=2, p=4 & \\frac{1}{2} &\\frac{1}{2} \n",
    "\\end{array}\n",
    "$$\n",
    "\n",
    "$$\n",
    "\\begin{array}\n",
    "{c|ccc}\n",
    "\\frac{1}{2}-\\frac{\\sqrt{15}}{10} & \\frac{5}{36} &\\frac{2}{9}-\\frac{\\sqrt{15}}{15} &\\frac{5}{36} -\\frac{\\sqrt{15}}{30} \\\\\n",
    "\\frac{1}{2} & \\frac{5}{36}+\\frac{\\sqrt{15}}{24}  &\\frac{2}{9}&\\frac{5}{36} -\\frac{\\sqrt{15}}{24} \\\\\n",
    "\\frac{1}{2}+\\frac{\\sqrt{15}}{10}+\\frac{\\sqrt{15}}{30} & \\frac{5}{36} &\\frac{2}{9}+\\frac{\\sqrt{15}}{15} &\\frac{5}{36}  \\\\\n",
    "\\hline\n",
    "S=3, p=6 & \\frac{5}{18} &\\frac{4}{9} &\\frac{5}{18} \n",
    "\\end{array}\n",
    "$$\n",
    "\n",
    "Using Gauss--Lobatto or Radau points one decrease the order $p=2S-1$, but increases stability."
   ]
  },
  {
   "attachments": {},
   "cell_type": "markdown",
   "metadata": {},
   "source": [
    "### Order conditions\n",
    "Butcher in 1964 proved that the following conditions are sufficient to obtain order $p$. They can be mostly verified for implicit schemes in easy manners.\n",
    "\n",
    "$$\n",
    "\\begin{cases}\n",
    "\tB(p):\\qquad  & \\sum_{i=1}^s b_i c_i^{z-1}=\\frac1z,\\qquad & z=1,\\dots,p; \\\\\n",
    "\tC(\\eta):\\qquad  & \\sum_{j=1}^s a_{ij} c_j^{z-1}=\\frac{c_i^z}{z},\\qquad & i=1,\\dots,S,\\,z=1,\\dots,\\eta;\\\\\n",
    "\tD(\\zeta):\\qquad  & \\sum_{i=1}^s b_i c_i^{z-1}a_{ij}=\\frac{b_j}{z}(1-c_j^z),\\qquad &j=1,\\dots,S,\\, z=1,\\dots,\\zeta.\n",
    "\\end{cases}\n",
    "$$\n",
    "\n",
    "#### Theorem [Butcher 1964](https://doi.org/10.2307/2003405)\n",
    "If the coefficients $b_i,c_i,a_{ij}$ of a RK scheme satisfy $B(p)$, $C(\\eta)$ and $D(\\zeta)$ with $p\\leq \\eta +\\zeta +1$ and $p\\leq 2\\eta +2$, then the method is of order $p$.\n",
    "\n",
    "*The proof relies on trees, we won't go into details.*"
   ]
  },
  {
   "attachments": {},
   "cell_type": "markdown",
   "metadata": {},
   "source": [
    "### Stability for implicit method\n",
    "Implicit methods are able to deal with stiff problems, hence, other types of stability are more interesting in this situation.\n",
    "\n",
    "##### A-stability \n",
    "A methods is A-stable if $|R(z)|\\leq 1$ whenever $Re(z)\\leq 0$.\n",
    "This property is desirable as it would include the analytical area where the ODE is *stable*. \n",
    "\n"
   ]
  },
  {
   "cell_type": "code",
   "execution_count": 29,
   "metadata": {},
   "outputs": [],
   "source": [
    "# examples of A-stable schemes that are not so nice"
   ]
  },
  {
   "attachments": {},
   "cell_type": "markdown",
   "metadata": {},
   "source": [
    "##### L-stability\n",
    "A method is L-stable if it is A-stable and $R(\\infty)=0$.\n",
    "\n",
    "This gives better stability conditions in case of stiff problems.\n",
    "\n",
    "Radau and Lobatto implicit RK methods are L-stable, while Gauss--Legendre are only A-stable.\n",
    "\n",
    "One can write down the conditions for RK scheme to have these stabilities. [see Butcher](https://onlinelibrary.wiley.com/doi/book/10.1002/9781119121534)"
   ]
  },
  {
   "attachments": {},
   "cell_type": "markdown",
   "metadata": {},
   "source": [
    "### Collocation methods\n",
    "Given some distinct collocation points $\\left\\lbrace c_i \\right\\rbrace_i \\subset [0,1]$ and defining the times $\\tau_i = t^n+c_i \\Delta t$, a collocation method searches for a polynomial $u(t) \\in \\mathbb P_{S}$, such that\n",
    "$$\n",
    "\\begin{cases}\n",
    "u(\\tau_i)' = f(\\tau_i, u(\\tau_i)), \\quad i=1,\\dots, S,\\\\\n",
    "u(t^n)=y^n\n",
    "\\end{cases}\n",
    "$$\n",
    "and the solution at the next timestep is evaluated as $y^{n+1}=u(t^{n+1})$.\n",
    "\n",
    "#### Lemma\n",
    "The collocation methods are (implicit) Runge--Kutta methods with \n",
    "$$\n",
    "\\begin{cases}\n",
    "a_{ij} = \\int_{0}^{c_i} \\ell_j(t) dt, \\quad & i,j=1,\\dots, S\\\\\n",
    "b_j = \\int_{0}^1 \\ell_j(t) dt, \\quad & j=1,\\dots, S\n",
    "\\end{cases}\n",
    "$$\n",
    "where $\\ell_j$ are the Lagrangian basis functions defined by the $c_i$, i.e., \n",
    "$$\n",
    "\\ell_j(t) = \\prod_{k\\neq j} \\frac{t-c_k}{c_j-c_k}. \n",
    "$$\n",
    "##### Proof\n",
    "We know that the polynomial $u' \\in \\mathbb P_{S-1}$ is exactly represented by its Lagrange interpolation\n",
    "$$\n",
    "u'(t^n+z \\Delta t) = \\sum_{j=1}^S \\ell_j(z) u'(\\tau_j).\n",
    "$$\n",
    "For the fundamental theorem of calculus, we have that\n",
    "$$\n",
    "\\begin{align*}\n",
    "u(t^n+z \\Delta t) =& y^n + \\Delta t \\int_{0}^{z} u'(t^n+s \\Delta t) ds \\\\\n",
    "=& y^n +\\Delta t \\int_{0}^{z} \\sum_{j=1}^S \\ell_j(s) ds\\, u'(\\tau_j) \\\\\n",
    "=&   y^n + \\int_{0}^{z} \\sum_{j=1}^S \\ell_j(s) ds\\, f(\\tau_j,u(\\tau_j)).\n",
    "\\end{align*}\n",
    "$$\n",
    "Hence, we can write that\n",
    "$$\n",
    "u^{(k)} = y^n + \\Delta t \\sum_{j=1}^S \\int_0^{c_k} \\ell_j(s) ds\\, f(\\tau_j,u^{(j)}) \n",
    "=y^n + \\Delta t \\sum_{j=1}^S a_{kj} f(\\tau_j,u^{(j)}) \n",
    "$$\n",
    "and\n",
    "$$\n",
    "y^{n+1}=u(t^{n+1})= y^n + \\Delta t \\sum_{j=1}^S \\int_0^{1} \\ell_j(s) ds\\, f(\\tau_j,u^{(j)}) \n",
    "=y^n + \\Delta t \\sum_{j=1}^S b_{j} f(\\tau_j,u^{(j)}).\n",
    "$$ "
   ]
  },
  {
   "attachments": {},
   "cell_type": "markdown",
   "metadata": {},
   "source": [
    "#### Property $B(p)$ for collocation methods\n",
    "Property $B(p)$ for a collocation method with $S$ stages, means that the underlying quadrature formula is of order $p$.\n",
    "Indeed, $c_i$ could be the quadrature points and $b_i= \\int_0^1 \\ell_j(s) ds $  the quadrature weights of a given quadrature rule $(c_i,b_i)$. Suppose that the quadrature rule is of order $p$, this means that it exactly integrate polynomials of degree at most $p-1$, i.e., for all $z = 1,\\dots, p$\n",
    "$$\n",
    "\\int_0^1 s^{z-1} ds = \\sum_{j} c_j^{z-1} b_j.\n",
    "$$\n",
    "On the other hand,\n",
    "$$\n",
    "\\int_0^1 s^{z-1} ds = \\left[ \\frac{s^z}{z}\\right]_0^1 = \\frac{1}{z}.\n",
    "$$\n",
    "This coincides exactly with condition $B(p)$ for which for all $z=1,\\dots, p$ we have \n",
    "$$\n",
    "\\sum_{j} c_j^{z-1} b_j=\\frac{1}{z}.\n",
    "$$"
   ]
  },
  {
   "attachments": {},
   "cell_type": "markdown",
   "metadata": {},
   "source": [
    "#### Property $C(S)$ for collocation methods\n",
    "An implicit RK method with all different $c_i$ is a collocation method iff it verifies $C(S)$.\n",
    "##### Proof\n",
    "We have seen before that collocation methods are defined by $c_i$ points with \n",
    "$$\n",
    "a_{ij}=\\int_{0}^{c_i} \\ell_j(s)ds.\n",
    "$$\n",
    "Property $C(S)$ states that for every $z\\leq S$\n",
    "$$\n",
    "\\sum_{j} a_{ij} c_j^{z-1} = \\frac{c_i^z}{z}.\n",
    "$$\n",
    "Let us note that the polynomial $s^{z-1}\\in \\mathbb P_{S-1}$ can be exactly represented by the Lagrangian interpolation polynomial $s^{z-1} = \\sum_j \\ell_j(s) c_j^{z-1}$. \n",
    "Hence,\n",
    "$$\n",
    "\\begin{align*}\n",
    "\\sum_{j} a_{ij} c_j^{z-1} = \\sum_{j} \\int_0^{c_i} \\ell_j(s) c_j^{z-1} ds = \\sum_{j} \\int_0^{c_i} s^{z-1} ds = \\left[ \\frac{s^z}{z}\\right]_{0}^{c_i} = \\frac{c_i^z}{z}.\n",
    "\\end{align*}\n",
    "$$\n",
    "\n",
    "On the other side, the $C(S)$ conditions determines uniquely the $a_{ij}$ given the $c_i$ as for every $i$ \n",
    "$$\n",
    "\\sum_{j=1}^s a_{ij} c_j^{z-1}=\\frac{c_i^z}{z}\n",
    "$$\n",
    "is a linear system for the vector $a_{i,:}$, where the matrix of the system is the Vandermond matrix $c_j^{z-1}$, which is invertible as $c_j$ are distinct. Hence, there is a unique solutions of $a_{ij}$ coefficients."
   ]
  },
  {
   "attachments": {},
   "cell_type": "markdown",
   "metadata": {},
   "source": [
    "#### Lemma (Wanner,Hairer, Solving Differential Equation II, Lemma 5.4)\n",
    "Consider an S-stage RK with distinct $c_1,\\dots,c_S$ and nonzero weights $b_1, \\dots, b_S$. Then, we have\n",
    "$$\n",
    "C(S) \\text{ and } B(S+\\nu) \\Longrightarrow D(\\nu)\n",
    "$$\n",
    "and \n",
    "$$\n",
    "D(S) \\text{ and } B(S+\\nu) \\Longrightarrow C(\\nu).\n",
    "$$\n",
    "\n",
    "\n",
    "##### Proof (only first)\n",
    "One has to show that \n",
    "$$\n",
    "d_j^{(z)}:= \\sum_{i=1}^S b_i c_i^{z-1}a_{ij} - \\frac{b_j}{z} (1-c_j^z) =0, \\qquad j=1,\\dots, S,\\,z=1,\\dots, \\nu.\n",
    "$$\n",
    "What we can prove is first that \n",
    "$$\n",
    "\\sum_{j=1}^S d_j^{(z)} c_j^{k-1} = 0,\\qquad k=1,\\dots,S, \\, z=1,\\dots,\\nu.\n",
    "$$\n",
    "Indeed,\n",
    "$$\n",
    "\\begin{align*}\n",
    "\\sum_{j=1}^S d_j^{(z)} c_j^{k-1} &= \\sum_{j=1}^S \\sum_{i=1}^S b_i c_i^{z-1}a_{ij} c_j^{k-1} -\\sum_{j=1}^S \\frac{b_j}{z} (1-c_j^z)c_j^{k-1}\\\\\n",
    "&=  \\sum_{i=1}^S  b_i c_i^{z-1}\\sum_{j=1}^Sa_{ij} c_j^{k-1} -\\sum_{j=1}^S \\frac{b_j}{z}c_j^{k-1} + \\sum_{j=1}^S \\frac{b_j}{z}c_j^{z+k-1} \\\\\n",
    "&=  \\frac{1}{k}\\sum_{i=1}^S  b_i c_i^{z+k-1}- \\frac{1}{z}\\sum_{j=1}^S b_j c_j^{k-1} + \\frac{1}{z}\\sum_{j=1}^S b_jc_j^{z+k-1} \\\\\n",
    "&=  \\frac{1}{k}\\frac{1}{z+k} - \\frac{1}{z}\\frac{1}{k} + \\frac{1}{z}\\frac{1}{z+k} \\\\\n",
    "&=  \\frac{z-(k+z) +k}{kz(k+z)}=0.\n",
    "\\end{align*}\n",
    "$$\n",
    "\n",
    "Then, we notice that for all $c_j^{k-1}$ for $j,k=1,\\dots,S$ defines a Vandermond matrix with all distinct points, so it is invertible. Hence, all entries of $d_j^{(z)}$ have to be zero for $j=1,\\dots,S$, $z=1,\\dots,\\nu$."
   ]
  },
  {
   "attachments": {},
   "cell_type": "markdown",
   "metadata": {},
   "source": [
    "* ##### Gauss Methods\n",
    "Gauss--Legendre quadratures defined by $S$ points $(c_i,b_i)$ are of order $2S$. Hence, $B(2S)$ holds for Gauss methods. As we have seen, all collocation methods verify $C(S)$. Hence, $D(S)$ holds because of the previous theorem with $\\nu=S$.\n",
    "So, applying Butcher 1964, knowing that $B(p)$, $C(\\eta)$ and $D(\\zeta)$  with $p=2S$, $\\eta=\\zeta=S$ hold, we have that $p=2S\\leq \\eta+\\zeta+1=2S+1$ and $p=2S\\leq 2s+2=2S+2$.\n",
    "\n",
    "Recall that Gauss--Legendre are the only quadratures that guarantee order $2S$.\n",
    "This is how one can achieve optimal order for a given number of stages for a RK method.\n",
    "\n",
    "Gauss methods are A stable but not L-stable"
   ]
  },
  {
   "cell_type": "code",
   "execution_count": 28,
   "metadata": {},
   "outputs": [
    {
     "data": {
      "text/plain": [
       "(poly1d([1/12, 1/2, 1], dtype=object), poly1d([1/12, -1/2, 1], dtype=object))"
      ]
     },
     "execution_count": 28,
     "metadata": {},
     "output_type": "execute_result"
    }
   ],
   "source": [
    "imRK = rk.loadRKM(\"LobattoIIIA3\")\n",
    "imRK.stability_function()"
   ]
  },
  {
   "attachments": {},
   "cell_type": "markdown",
   "metadata": {},
   "source": [
    "\n",
    "* ##### RadauIA and RadauIIA\n",
    "RadauIA points are defined as the zeros of \n",
    "$$\n",
    "\\frac{d^{S-1}}{dx^{S-1}} \\left( x^S (x-1)^{S-1} \\right)\n",
    "$$\n",
    "The RK $a_{ij}$ for RadauIA are defined by $D(S)$ conditions and they are of order $2S-1$, but they are not collocation methods.\n",
    "\n",
    "RadauIIA points are defined as the zeros of \n",
    "$$\n",
    "\\frac{d^{S-1}}{dx^{S-1}} \\left( x^{S-1} (x-1)^{S} \\right).\n",
    "$$\n",
    "and the RK $a_{ij}$ are defined by $C(S)$ and, hence, they are collocation methods of order $2S-1$-\n",
    "\n",
    "\n",
    "* ##### LobattoIIIA\n",
    "Lobatto points are defined as the zero of \n",
    "$$\n",
    "\\frac{d^{S-2}}{dx^{S-2}} \\left( x^{S-1} (x-1)^{S-1} \\right).\n",
    "$$\n",
    "This quadrature is the most accurate including the extrema of the interval $c_1=0$ and $c_S=1$.\n",
    "The order of accuracy of Gauss-Lobatto quadrature with $S$ points is $2S-2$.\n",
    "Hence, $B(2S-2)$ and $C(S)$ are verified, which implies that $D(S-2)$. Hence the collocation method with Gauss-Lobatto points, which is called LobattoIIIA.\n",
    "The order of the method is $p=2S-2$ as $p=2S-2\\leq S+S-2+1 = \\eta+\\zeta+1$ and $p=2S-2\\leq 2S+2=2\\eta+2$.\n",
    "\n",
    "$$\n",
    "\\begin{array}{c|cc}0&0&0\\\\1&1/2&1/2\\\\\\hline &1/2&1/2\\\\\\end{array}, \\qquad \n",
    "\\begin{array}{c|ccc}0&0&0&0\\\\1/2&5/24&1/3&-1/24\\\\1&1/6&2/3&1/6\\\\\\hline &1/6&2/3&1/6\\\\\\end{array}\n",
    "$$\n",
    "\n",
    "* ##### LobattoIIIB\n",
    "There other variants where $C(S)$ is not satisfied.\n",
    "LobattoIIIB is defined by $D(S)$. It verifies $C(S-2)$. Moreover, $a_{iS}=0$ for all $i=1,\\dots,S.$ The order is $2S-2$.\n",
    "$$\n",
    "\\begin{array}{c|cc}0&1/2&0\\\\1&1/2&0\\\\\\hline &1/2&1/2\\\\\\end{array},\\qquad\n",
    "\\begin{array}{c|ccc}0&1/6&-1/6&0\\\\1/2&1/6&1/3&0\\\\1&1/6&5/6&0\\\\\\hline &1/6&2/3&1/6\\\\\\end{array}\n",
    "$$\n",
    "\n",
    "* ##### LobattoIIIC\n",
    "These are defined by $C(S-1)$ (which imposes $S*(S-1)$ conditions) and by $a_{1j}=b_1$ for all $i=1,\\dots, S$. This gives also $D(S-1)$ and order $2S-2$.\n",
    "$$\n",
    "\\begin{array}{c|cc}0&1/2&-1/2\\\\1&1/2&1/2\\\\\\hline &1/2&1/2\\\\\\end{array} , \\qquad \n",
    "\\begin{array}{c|ccc}0&1/6&-1/3&1/6\\\\1/2&1/6&5/12&-1/12\\\\1&1/6&2/3&1/6\\\\\\hline &1/6&2/3&1/6\\\\&-{\\frac {1}{2}}&2&-{\\frac {1}{2}}\\\\\\end{array}\n",
    "$$\n"
   ]
  },
  {
   "attachments": {},
   "cell_type": "markdown",
   "metadata": {},
   "source": [
    "#### DIRK \n",
    "* Issue: general implicit RK increase a lot the complexity of the system. If the ODE has dimension $N_{ODE}$ and the RK has $S$ stages, at each time step we have to solve a (nonlinear) system of $N_{ODE}\\times S$ equations. This increases the complexity of the system!\n",
    "\n",
    "It would be better to have more systems of dimension $N_{ODE}$ to decrease the complexity. Note: it is faster to solve $S$ systems of dimension $N_{ODE}$ than a system of dimension $S\\times N_{ODE}$ as even the linear solvers requires between $O(N^2)$ and $O(N^3)$.\n",
    "\n",
    "* Cost of $S$ systems of dimension $N_{ODE}$ = $O(S N_{ODE}^2) \\leftrightarrow O(S N_{ODE}^3)$\n",
    "* Cost of one system of dimension $S \\times N_{ODE}$ = $O(S^2 N_{ODE}^2)  \\leftrightarrow O(S^3 N_{ODE}^3)$ \n",
    "\n",
    "* How to have the stability of an implicit method with systems of at most dimension $N_{ODE}$?\n",
    "[***Diagonally implicit Runge Kutta methods***](https://en.wikipedia.org/wiki/List_of_Runge%E2%80%93Kutta_methods#Diagonally_Implicit_Runge%E2%80%93Kutta_methods)\n",
    "\n",
    "Examples:\n",
    "$$\n",
    "\\begin{array}{c|cc}{\\frac {1}{2}}+{\\frac {\\sqrt {3}}{6}}&{\\frac {1}{2}}+{\\frac {\\sqrt {3}}{6}}&0\\\\{\\frac {1}{2}}-{\\frac {\\sqrt {3}}{6}}&-{\\frac {\\sqrt {3}}{3}}&{\\frac {1}{2}}+{\\frac {\\sqrt {3}}{6}}\\\\\\hline &{\\frac {1}{2}}&{\\frac {1}{2}}\\\\\\end{array}\\qquad \\begin{array}{c|cccc}1/2&1/2&0&0&0\\\\2/3&1/6&1/2&0&0\\\\1/2&-1/2&1/2&1/2&0\\\\1&3/2&-3/2&1/2&1/2\\\\\\hline &3/2&-3/2&1/2&1/2\\\\\\end{array}\n",
    "$$\n"
   ]
  },
  {
   "attachments": {},
   "cell_type": "markdown",
   "metadata": {},
   "source": [
    "### Stability for implicit method\n",
    "Implicit methods are able to deal with stiff problems, hence, other types of stability are more interesting in this situation.\n",
    "\n",
    "##### A-stability \n",
    "A methods is A-stable if $|R(z)|\\leq 1$ whenever $Re(z)\\leq 0$.\n",
    "\n",
    "##### L-stability\n",
    "A method is L-stable if it is A-stable and $R(\\infty)=0$.\n",
    "\n",
    "This gives better stability conditions in case of stiff problems.\n",
    "\n",
    "Radau and Lobatto implicit RK methods are L-stable, while Gauss--Legendre are only A-stable.\n",
    "\n",
    "One can write down the conditions for RK scheme to have these stabilities. [see Butcher](https://onlinelibrary.wiley.com/doi/book/10.1002/9781119121534)"
   ]
  },
  {
   "cell_type": "code",
   "execution_count": null,
   "metadata": {},
   "outputs": [],
   "source": [
    "for method in [\"LobattoIIIC2\",\"LobattoIIIC3\",\"LobattoIIIC4\", \"GL2\",\"GL3\",\"SDIRK23\"]:\n",
    "    imRK=rk.loadRKM(method)\n",
    "    print(imRK)\n",
    "    imRK.plot_stability_region(bounds=[-10,3,-5,5])\n",
    "    plt.show()"
   ]
  },
  {
   "cell_type": "code",
   "execution_count": null,
   "metadata": {},
   "outputs": [],
   "source": [
    "## explicit RK method\n",
    "def explicitRK(flux, tspan, y_0, A, b, c):\n",
    "    # Solving u'=F(u,t)\n",
    "    # input: flux=F, tspan is a vector of times determining the RK steps\n",
    "    # input: y_0 the initial condition\n",
    "    # input: A,b,c are matrix and vectors of RK methods\n",
    "    N_time=len(tspan)  # N+1\n",
    "    dim=len(y_0)          # S\n",
    "    y=np.zeros((dim,N_time))    # initializing the variable of solutions    \n",
    "    y[:,0]=y_0                 # first timestep \n",
    "    S=np.shape(A)[0]\n",
    "    u=np.zeros((dim,S))       # Internal stages\n",
    "    Fu=np.zeros((dim,S))       # Flux at internal stages\n",
    "    for n in range(N_time-1):    # n=0,..., N-1\n",
    "        delta_t=tspan[n+1]-tspan[n]\n",
    "        for k in range(S):\n",
    "            u[:,k]=y[:,n] \n",
    "            for j in range(k):\n",
    "                u[:,k] =u[:,k]+ delta_t*A[k,j]*Fu[:,j]\n",
    "            Fu[:,k] = flux(u[:,k],tspan[n]+delta_t*c[k])\n",
    "        y[:,n+1]=y[:,n]\n",
    "        for j in range(S):\n",
    "            y[:,n+1]=y[:,n+1]+delta_t*b[j]*Fu[:,j]\n",
    "    return tspan, y "
   ]
  },
  {
   "cell_type": "code",
   "execution_count": null,
   "metadata": {},
   "outputs": [],
   "source": [
    "import matplotlib.pyplot as plt\n",
    "pr=ODEproblem(\"linear_system2\")\n",
    "t_span=np.linspace(0,pr.T_fin,4)\n",
    "rk44=rk.loadRKM('RK44')\n",
    "tt,uu=explicitRK(pr.flux,t_span,pr.u0,rk44.A,rk44.b,rk44.c)\n",
    "plt.plot(tt,uu[0,:])\n",
    "plt.plot(tt,uu[1,:])"
   ]
  },
  {
   "cell_type": "code",
   "execution_count": null,
   "metadata": {},
   "outputs": [],
   "source": [
    "def error(tt,yy):\n",
    "    errors=np.zeros(len(tt))\n",
    "    for it, t in enumerate(tt):\n",
    "        errors[it]=np.linalg.norm(yy[:,it]-pr.exact(yy[:,0],t))\n",
    "    return np.mean(errors)\n",
    "\n",
    "Ns=[2**k for k in range(1,10)]\n",
    "solvers=[rk1,rk2,rk3,rk44]\n",
    "\n",
    "errorEx=np.zeros((len(solvers),len(Ns)))\n",
    "dts=    np.zeros(len(Ns))\n",
    "\n",
    "\n",
    "\n",
    "for iN, N in enumerate(Ns):\n",
    "    tspan=np.linspace(0,pr.T_fin,N)\n",
    "    dts[iN]=tspan[1]-tspan[0]\n",
    "    for iS, rk in enumerate(solvers):\n",
    "        tt,yy=explicitRK(pr.flux,tspan,pr.u0,rk.A,rk.b,rk.c)\n",
    "        errorEx[iS,iN]=error(tt,yy)\n",
    "\n",
    "plt.figure()\n",
    "for iS, rk in enumerate(solvers):\n",
    "    plt.loglog(dts,errorEx[iS,:],label=rk.name)\n",
    "    plt.loglog(dts,dts**(rk.order()),\":\", label=\"order %d\"%(rk.order()))\n",
    "plt.legend()"
   ]
  },
  {
   "cell_type": "markdown",
   "metadata": {},
   "source": [
    "## Multistep Methods <a id='multistep'></a>"
   ]
  },
  {
   "cell_type": "markdown",
   "metadata": {},
   "source": [
    "One of the cons of RK is the need of computing many evaluations of the flux $F$ at each timestep. This can computationally cost a lot.\n",
    "One can instead exploit the knowledge of the previous states $y^{n-1},y^{n-2},\\dots,y^{n-k}$ to obtain $y^n$. \n",
    "Multistep methods interpolate previous states to extrapolate the new solution. \n",
    "\n",
    "Two types\n",
    "* Adams methods: use the values of $\\lbrace F(t^{n-j},y^{n-j})\\rbrace_{j=1}^k$\n",
    "* General methods: use also the values of $\\lbrace y^{n-j}\\rbrace_{j=1}^k$\n",
    "\n",
    "Example of a general linear multistep method\n",
    "\n",
    "$$\n",
    "y^{n+1}+\\sum_{j=1}^k \\alpha_j y^{n-j+1} = \\Delta t \\sum_{j=0}^k \\beta_j F(t^{n-j+1},y^{n-j+1})\n",
    "$$\n",
    "\n",
    "\n"
   ]
  },
  {
   "attachments": {},
   "cell_type": "markdown",
   "metadata": {},
   "source": [
    "#### Stability\n",
    "As for RK methods one can wonder whether these schemes are stable. Similarly, we proceed for Dahlquist's equation\n",
    "$$\n",
    "y'=qy,\\qquad q\\in \\mathbb C \\cap \\lbrace Re(q)<0 \\rbrace. \n",
    "$$\n",
    "Since the method is identical at each iteration, we suppose that $y^{n+1}= \\zeta^{n+1} y^0$ and the method will be stable if $|\\zeta|\\leq 1$.\n",
    "\n",
    "Inserting this ansatz into the multistep methods we obtain\n",
    "$$\n",
    "y^{n+1}+\\sum_{j=1}^k \\alpha_j y^{n-j+1} = \\Delta t q \\sum_{j=0}^k \\beta_j  y^{n-j+1}\\\\\n",
    "\\zeta^{k}+\\alpha_1 \\zeta^{k-1}+\\alpha_2 \\zeta^{k-2}+\\dots +\\alpha_k \\zeta^{0} = \\Delta t q (\\beta_0 \\zeta^k + \\beta_1 \\zeta^{k-1} +\\dots + \\beta_k \\zeta^0).\n",
    "$$\n",
    "This is a complex polynomial of degree $k$ in $\\zeta$ which depends on the parameter $\\Delta t q = z \\in \\mathbb C^-$. Let $\\zeta_i\\in \\mathbb C$ for $i=1,\\dots,k$ be the zeros of the previous equation. If $|\\zeta_i|\\leq 1$ for all $i$ and for the multiple zeros $|\\zeta_i|<1$, then the method is stable.\n",
    "\n",
    "Numerically, the task is more challenging than with RK methods. Here, *polynomial roots finding* algorithm are necessary.\n",
    "The **stability area**, i.e., all $z\\in \\mathbb C$ such that all the roots/multiple roots have modulus smaller or equal/smaller than 1.\n",
    "\n",
    "In contrast with RK schemes where a simple function evalution is required, for mutlistep methods this can be quite computationally expensive. \n",
    "\n",
    "* Trick: instead of looking at the map $z \\to \\lbrace \\zeta_i \\rbrace$, one can look for the inverse map $\\zeta\\to z$ given by the same equation\n",
    "$$\n",
    "z= \\frac{\\zeta^{k}+\\alpha_1 \\zeta^{k-1}+\\alpha_2 \\zeta^{k-2}+\\dots +\\alpha_k \\zeta^{0}}{\\beta_0 \\zeta^k + \\beta_1 \\zeta^{k-1} +\\dots + \\beta_k \\zeta^0}.\n",
    "$$\n",
    "\n",
    "Exploring the values of $\\zeta$ inside the unit circle, we find the stable values of $z$. "
   ]
  },
  {
   "attachments": {},
   "cell_type": "markdown",
   "metadata": {},
   "source": [
    "Stability of Adams of order 4\n",
    "\n",
    "![Stability of Adam4](https://github.com/accdavlo/HighOrderODESolvers/raw/master/images/chapter2multistep_stability_adam4.png)"
   ]
  },
  {
   "attachments": {},
   "cell_type": "markdown",
   "metadata": {},
   "source": [
    "#### Accuracy\n",
    "**Taylor expansion of the method!**\n",
    "\n",
    "Let us substitute the exact solution into the method, we have a look at the residual after a taylor expansion\n",
    "$$\n",
    "y(t^{n+1})+\\sum_{j=1}^k \\alpha_j y(t^{n-j+1}) - \\Delta t \\sum_{j=0}^k \\beta_j F(t^{n-j+1},y^{n-j+1}) =\\\\ \n",
    "y(t^{n+1})+\\sum_{j=1}^k \\alpha_j y(t^{n-j+1}) - \\Delta t \\sum_{j=0}^k \\beta_j y'(t^{n-j+1})=\\\\\n",
    "y(t^{n+1})+\\sum_{j=1}^k \\alpha_j \\sum_{l=0}^p\\frac{(-j\\Delta t)^l}{l!} y^{(j)}(t^{n+1}) - \\Delta t \\sum_{j=0}^k \\beta_j \\sum_{l=0}^{p-1} \\frac{(-j\\Delta t)^l}{l!}  y^{(l+1)}(t^{n+1}) + O(\\Delta t^{p+1}).\n",
    "$$\n",
    "Let's collect terms with same order\n",
    "$$\n",
    "\\begin{align*}\n",
    "&y(t^{n+1})(1 + \\sum_{j=1}^k \\alpha_j)+\\\\\n",
    "\\Delta t &y'(t^{n+1}) \\left(  \\sum_{j=1}^k \\alpha_j \\frac{-j}{l!} -\\sum_{j=0}^k \\beta_j     \\right)+\\\\\n",
    "&\\dots\\\\\n",
    "\\Delta t^l &y^{(l)}(t^{n+1}) \\left(  \\sum_{j=1}^k \\alpha_j\\frac{(-j)^l}{l!} -\\sum_{j=0}^k \\beta_j  \\frac{(-j)^{l-1}}{(l-1)!}     \\right)+\\\\\n",
    "&\\dots\\\\\n",
    "\\Delta t^p &y^{(p)}(t^{n+1}) \\left(  \\sum_{j=1}^k \\alpha_j\\frac{(-j)^p}{p!} -\\sum_{j=0}^k \\beta_j  \\frac{(-j)^{p-1}}{(p-1)!}     \\right)+ O(\\Delta t^{p+1}).\n",
    "\\end{align*}\n",
    "$$\n",
    "\n",
    "Hence, the method to be of order $p$ has to verify that $1 + \\sum_{j=1}^k \\alpha_j=0$ and for all $l=1,\\dots,p$\n",
    "$$\n",
    " \\sum_{j=1}^k \\alpha_j\\frac{(-j)^l}{l!} -\\sum_{j=0}^k \\beta_j  \\frac{(-j)^{l-1}}{(l-1)!}  =0.\n",
    "$$\n",
    "\n",
    "* $p+1$ equations for $2k+1$ coefficients, quite a lot of freedom"
   ]
  },
  {
   "cell_type": "markdown",
   "metadata": {},
   "source": [
    "### Adams Bashforth methods\n",
    "**Main idea**\n",
    "\n",
    "$$\n",
    "y(t^{n+1})=y(t^{n})+\\int_{t^{n}}^{t^{n+1}} F(t,y(t))dt \\approx y^{n+1} = y^{n}+\\int_{t^{n}}^{t^{n+1}} P_n (t) dt \n",
    "$$\n",
    "\n",
    "In particular, choose $P_n=P_{n,k}$ to be the interpolant polynomial of degree $\\leq k-1$ such that\n",
    "\n",
    "$$\n",
    "P_{n,k}(t^{n-j+1})=F^{n-j+1}:=F(t^{n-j+1},y^{n-j+1}),\\quad j=1,\\dots, k.\n",
    "$$\n",
    "\n",
    "Using Lagrange interpolation polynomials, we can write\n",
    "\n",
    "$$\n",
    "P_{n,k}(t):=\\sum_{j=1}^k F^{n-j+1} L_{n,j,k}(t), \\quad \\text{with } L_{n,j,k}(t)=\\prod_{i=1,i\\neq j}^{k} \\frac{ t-t^{n+1-i}}{t^{n+1-j}-t^{n+1-i}}\n",
    "$$\n",
    "\n",
    "Defining\n",
    "\n",
    "$$\n",
    "b_{n,j,k}:=\\frac{1}{t^{n+1}-t^{n}} \\int_{t^{n}}^{t^{n+1}} L_{n,j,k}(t) dt, \\quad j=1,\\dots,k\n",
    "$$\n",
    "\n",
    "the method reads\n",
    "\n",
    "$$\n",
    "y^{n+1}:=y^n + \\Delta t \\sum_{j=1}^k b_{n,j,k} F^{n-j+1}, \\quad \\text{for } n\\geq k\\\\\n",
    "F^{n+1}:=F(t^{n+1},y^{n+1}).\n",
    "$$\n",
    "\n",
    "* Explicit method\n",
    "* $k=0$ Explicit Euler\n",
    "* Error at each step (we can aim to) $\\mathcal O (\\Delta t^{k+1})$, global error is $\\mathcal O (\\Delta t^{k})$\n",
    "\n",
    "#### Starting values\n",
    "Starting with the initial value problem, to compute $y^1$ we do not know $y^{-1}, \\dots, y^{-k+1}$. One can proceed in different ways in this case.\n",
    "* Start with $k$ steps of RK methods\n",
    "* Start with an exact solution (if available)\n",
    "* Change $k$ along the method (order of accuracy could be lost -> Change the step size)\n",
    "* Few implicit steps and then explicit"
   ]
  },
  {
   "cell_type": "markdown",
   "metadata": {},
   "source": [
    "#### Adams Bashforth parameters\n",
    "\n",
    "$$\n",
    "\\begin{array}\n",
    "{c|cccc}\n",
    "k & b_{n,1,k} & b_{n,2,k} & b_{n,3,k}  & b_{n,4,k} &b_{n,5,k}\\\\\n",
    "\\hline\n",
    "1& 1\\\\\n",
    "2& \\frac{3}{2} & -\\frac{1}{2}\\\\\n",
    "3& \\frac{23}{12} & -\\frac{4}{3} & \\frac{5}{12} \\\\\n",
    "4& \\frac{55}{24}& -\\frac{59}{24} & \\frac{37}{24} &-\\frac{3}{8} \\\\\n",
    "5& \\frac{1901}{720}& -\\frac{1387}{360} & \\frac{109}{30} &-\\frac{637}{360} & \\frac{251}{720} \n",
    "\\end{array} \n",
    "$$"
   ]
  },
  {
   "cell_type": "code",
   "execution_count": null,
   "metadata": {},
   "outputs": [],
   "source": [
    "# Be carefull with notation\n",
    "import nodepy.linear_multistep_method as lm\n",
    "for order in range(2,10):\n",
    "    print(\"Adam Bashforth Order %d\"%(order))\n",
    "    AB=lm.Adams_Bashforth(order)\n",
    "    plt.figure()\n",
    "    AB.plot_stability_region()\n",
    "    plt.show()\n",
    "    plt.show()"
   ]
  },
  {
   "cell_type": "markdown",
   "metadata": {},
   "source": [
    "### Adams Moulton methods (implicit)\n",
    "\n",
    "In particular, choose $P_n=P_{n,k}$ to be the interpolant polynomial of degree $\\leq k$ such that\n",
    "\n",
    "$$\n",
    "P_{n,k}(t^{n-j})=F^{n-k}:=F(t^{n-j},y^{n-j}),\\quad j=0,\\dots, k.\n",
    "$$\n",
    "\n",
    "Using Lagrange interpolation polynomials, we can write\n",
    "\n",
    "$$\n",
    "P_{n,k}(t):=\\sum_{j=0}^k F^{n-j+1} L_{n,j,k}(t), \\quad \\text{with } L_{n,j,k}(t)=\\prod_{i=0,i\\neq j}^{k} \\frac{ t-t^{n-i+1}}{t^{n-j+1}-t^{n-i+1}}\n",
    "$$\n",
    "\n",
    "Defining\n",
    "\n",
    "$$\n",
    "b_{n,j,k}:=\\frac{1}{t^{n+1}-t^{n}} \\int_{t^{n}}^{t^{n+1}} L_{n,j,k}(t) dt, \\quad j=0,\\dots,k\n",
    "$$\n",
    "\n",
    "the method reads\n",
    "\n",
    "$$\n",
    "y^{n+1}:=y^n + \\Delta t \\sum_{j=0}^k b_{n,j,k} F^{n-j+1}, \\quad \\text{for } n\\geq k\\\\\n",
    "F^{n+1}=F(t^{n+1},y^{n+1}),\n",
    "$$\n",
    "\n",
    "i.e., at each step we have to solve\n",
    "\n",
    "$$\n",
    "y^{n+1}-\\Delta t b_{n,0,k} F(t^{n+1},y^{n+1}):=y^n + \\Delta t \\sum_{j=1}^k b_{n,j,k} F^{n-j+1}, \\quad \\text{for } n\\geq k\\\\\n",
    "$$\n",
    "\n",
    "Unique solution if $\\Delta t b_{n,0,k} L< 1$ ($L$ Lipschitz continuity constant of $F$), solution can be obtained with the fixed point iteration method.\n",
    "\n",
    "* Implicit method\n",
    "* $k=0$ Implicit Euler\n",
    "* Error at each step $\\mathcal O (\\Delta t^{k+2})$, global error is $\\mathcal O (\\Delta t^{k+1})$\n",
    "* Same problems with starting values"
   ]
  },
  {
   "cell_type": "markdown",
   "metadata": {},
   "source": [
    "#### Adams Moulton parameters\n",
    "\n",
    "$$\n",
    "\\begin{array}\n",
    "{c|ccccc|c}\n",
    "k & b_{n,0,k} & b_{n,1,k} & b_{n,2,k} & b_{n,3,k}  & b_{n,4,k} & Notes\\\\\n",
    "\\hline\n",
    "0& 1 &&&&& \\text{Implicit Euler}\\\\\n",
    "1& \\frac{1}{2} & \\frac{1}{2} &&&&\\text{ Crank-Nicolson}\\\\\n",
    "2& \\frac{5}{12} & \\frac{2}{3} & -\\frac{1}{12}  \\\\\n",
    "3& \\frac{3}{8}& \\frac{19}{24} & -\\frac{5}{24} & \\frac{1}{24} \\\\\n",
    "4& \\frac{251}{720}& \\frac{323}{360} & -\\frac{11}{30} & \\frac{53}{360} & -\\frac{19}{720} \n",
    "\\end{array} \n",
    "$$"
   ]
  },
  {
   "cell_type": "code",
   "execution_count": null,
   "metadata": {},
   "outputs": [],
   "source": [
    "# Be carefull with notation\n",
    "import nodepy.linear_multistep_method as lm\n",
    "for order in range(2,10):\n",
    "    print(\"Adam Moulton Order %d\"%(order))\n",
    "    AM =lm.Adams_Moulton(order-1)\n",
    "    plt.figure()\n",
    "    AM.plot_stability_region()\n",
    "    plt.show()"
   ]
  },
  {
   "attachments": {},
   "cell_type": "markdown",
   "metadata": {},
   "source": [
    "Clearly, except for order 1 and 2 (implicit Euler and Crank-Nicolson), the methods are not A-stable."
   ]
  },
  {
   "cell_type": "markdown",
   "metadata": {},
   "source": [
    "#### How to render Adams Moulton explicit?\n",
    "\n",
    "Use Adams Bashforth (AB) to compute $y^{n+1,*}$, then update the value with Adams Moulton (AM) formula, where the obtained value can be substituted into $F(t^{n+1},y^{n+1,*})$. In particular, we use a $k^*$ for Adam Bashforth that is equal to $k$ of AM, this means that we use during AB one extra value of $F$ with respect to the ones we use in AM."
   ]
  },
  {
   "attachments": {},
   "cell_type": "markdown",
   "metadata": {},
   "source": [
    "#### BDF (first implicit schemes by Curtiss, Hirschfelder in 1952)\n",
    "Backward difference are *the opposite* of Adams method. \n",
    "$$\n",
    "y^{n+1}+\\sum_{j=1}^k \\alpha_j y^{n-j+1} = \\Delta t \\beta_0 F(t^{n+1},y^{n+1})\n",
    "$$\n",
    "\n",
    "* Pro: most efficient implicit multistep methods\n",
    "* Cons: stable only up to order 6\n",
    "\n",
    "The relation on the order of accuracy gives the following system\n",
    "$$\n",
    "\\begin{cases}\n",
    "\\sum_{j=1}^k \\alpha_j = -1\\\\\n",
    "\\sum_{j=1}^k j \\alpha_j = -\\beta_0\\\\\n",
    " \\sum_{j=1}^k \\alpha_j\\frac{(-j)^l}{l!} =0\\qquad l=2,\\dots,p.\n",
    " \\end{cases}\n",
    "$$"
   ]
  },
  {
   "cell_type": "code",
   "execution_count": null,
   "metadata": {},
   "outputs": [],
   "source": [
    "# Be carefull with notation\n",
    "import nodepy.linear_multistep_method as lm\n",
    "for order in range(2,10):\n",
    "    print(\"BDF Order %d\"%(order))\n",
    "    BDF=lm.backward_difference_formula(order)\n",
    "    plt.figure()\n",
    "    BDF.plot_stability_region()\n",
    "    plt.show()\n"
   ]
  },
  {
   "attachments": {},
   "cell_type": "markdown",
   "metadata": {},
   "source": [
    "#### Theorem (Dahlquist 1963)\n",
    "An A-stable multistep method must be of order $p\\leq 2.$"
   ]
  },
  {
   "cell_type": "markdown",
   "metadata": {},
   "source": [
    "#### Implement the Adams Bashforth method\n",
    "\n",
    "Pass in input the coefficients $b_j$ of the scheme and the initial $k$ values needed. "
   ]
  },
  {
   "cell_type": "code",
   "execution_count": null,
   "metadata": {},
   "outputs": [],
   "source": [
    "## explicit Adams Bashforth method\n",
    "def multiAB(flux, tspan, y_0, b):\n",
    "    # Solving u'=F(u,t)\n",
    "    # input: flux=F, tspan is a vector of times determining the RK steps\n",
    "    # input: y_0 the initial condition with the first k values of the solution\n",
    "    # input: b are k+1 b_j coefficients where the last one is 0\n",
    "    N_time=len(tspan)  # N+1\n",
    "    dim=y_0.shape[0]          # S\n",
    "    y=np.zeros((dim,N_time))    # initializing the variable of solutions\n",
    "    k = len(b)-1                # size of AB\n",
    "    if y_0.shape[1] < k:\n",
    "        raise ValueError(\"Input vector is too small\")\n",
    "    y[:,:k]=y_0                  # first timesteps \n",
    "    n0=k-1                       # last index assigned\n",
    "    Fu=np.zeros((dim,k))         # Flux at internal stages\n",
    "    for j in range(k):\n",
    "        Fu[:,j]=flux(y[:,j])\n",
    "    for n in range(n0,N_time-1):    # n=0,..., N-1\n",
    "        delta_t=tspan[n+1]-tspan[n]\n",
    "        y[:,n+1]=y[:,n]\n",
    "        for j in range(k):\n",
    "            y[:,n+1]=y[:,n+1]+delta_t*b[j]*Fu[:,j]\n",
    "        Fu[:,:k-1] = Fu[:,1:]\n",
    "        Fu[:,k-1] = flux(y[:,n+1])\n",
    "    return tspan, y "
   ]
  },
  {
   "cell_type": "code",
   "execution_count": null,
   "metadata": {},
   "outputs": [],
   "source": [
    "order = 2\n",
    "N=100 #5\n",
    "AB=lm.Adams_Bashforth(order)\n",
    "pr=ODEproblem(\"linear_system2\")\n",
    "t_span=np.linspace(0,pr.T_fin,N)\n",
    "y_0 = np.zeros((len(pr.u0),order))\n",
    "for j in range(order):\n",
    "    y_0[:,j] = pr.exact(pr.u0,t_span[j])\n",
    "    \n",
    "tt,uu=multiAB(pr.flux,t_span,y_0,AB.beta)\n",
    "plt.plot(tt,uu[0,:])\n",
    "plt.plot(tt,uu[1,:])"
   ]
  },
  {
   "cell_type": "code",
   "execution_count": null,
   "metadata": {
    "scrolled": true
   },
   "outputs": [],
   "source": [
    "## TEST CONVERGENCE! \n",
    "pr=ODEproblem(\"linear_system2\")\n",
    "def error(tt,yy):\n",
    "    errors=np.zeros(len(tt))\n",
    "    for it, t in enumerate(tt):\n",
    "        errors[it]=np.linalg.norm(yy[:,it]-pr.exact(yy[:,0],t))\n",
    "    return np.mean(errors)\n",
    "\n",
    "Ns=[2**k for k in range(5,10)]\n",
    "maxOrder=6\n",
    "\n",
    "errorEx=np.zeros((maxOrder,len(Ns)))\n",
    "dts=    np.zeros(len(Ns))\n",
    "\n",
    "\n",
    "\n",
    "\n",
    "for iN, N in enumerate(Ns):\n",
    "    tspan=np.linspace(0,pr.T_fin,N)\n",
    "    dts[iN]=tspan[1]-tspan[0]\n",
    "    for iorder in range(maxOrder):\n",
    "        order=iorder+1\n",
    "        AB=lm.Adams_Bashforth(order)\n",
    "        y_0 = np.zeros((len(pr.u0),order))\n",
    "        for j in range(order):\n",
    "            y_0[:,j] = pr.exact(pr.u0,tspan[j])\n",
    "        tt,yy=multiAB(pr.flux,tspan,y_0,AB.beta)\n",
    "        errorEx[iorder,iN]=error(tt,yy)\n",
    "\n",
    "plt.figure()\n",
    "for iorder in range(maxOrder):\n",
    "    order=iorder+1\n",
    "    plt.loglog(dts,errorEx[iorder,:],label=\"AB\"+str(order))\n",
    "    plt.loglog(dts,dts**(order)*errorEx[iorder,2]/dts[2]**order,\":\", label=\"order %d\"%(order))\n",
    "plt.legend()"
   ]
  },
  {
   "attachments": {},
   "cell_type": "markdown",
   "metadata": {},
   "source": [
    "**Pro exercise** Code the combined Adams Moulton Bashforth method\n",
    "\n",
    "Example $k$-th order:\n",
    "\n",
    "$$\n",
    "y^{*,n+1}=y^n +\\Delta t \\sum_{j=1}^k b^{AB}_{n,j,k} F(y^{n+1-j})\\\\\n",
    "y^{n+1} = y^{n} +\\Delta t b^{AM}_{n,0,k-1} F(y^{*,n+1}) + \\Delta t \\sum_{j=1}^{k-1} b^{AM}_{n,j,k-1} F(y^{n+1-j})\n",
    "$$"
   ]
  },
  {
   "cell_type": "code",
   "execution_count": null,
   "metadata": {},
   "outputs": [],
   "source": [
    "### ADAMS moulton Bashforth\n",
    "# We combine the two methods, in order to get something positive\n",
    "## explicit Adams Bashforth method\n",
    "def multiAMB(flux, tspan, y_0, bAB, bAM):\n",
    "    # Solving u'=F(u,t)\n",
    "    # input: flux=F, tspan is a vector of times determining the RK steps\n",
    "    # input: y_0 the initial condition with the first k values of the solution\n",
    "    # input: bAB are k+1 b_j coefficients where the last one is 0 of Adam Bashforth\n",
    "    # input: bAB are k b_j coefficients of Adams Moulton\n",
    "    N_time=len(tspan)  # N+1\n",
    "    dim=y_0.shape[0]          # S\n",
    "    y=np.zeros((dim,N_time))    # initializing the variable of solutions\n",
    "    k = len(bAB)-1                # size of AB\n",
    "    if y_0.shape[1] < k:\n",
    "        raise ValueError(\"Input vector is too small\")\n",
    "    y[:,:k]=y_0                  # first timesteps \n",
    "    n0=k-1                       # last index assigned\n",
    "    Fu=np.zeros((dim,k))         # Flux at internal stages\n",
    "    for j in range(k):\n",
    "        Fu[:,j]=flux(y[:,j])\n",
    "    for n in range(n0,N_time-1):    # n=0,..., N-1\n",
    "        delta_t=tspan[n+1]-tspan[n]\n",
    "        y[:,n+1]=y[:,n]\n",
    "        for j in range(k):\n",
    "            y[:,n+1]=y[:,n+1]+delta_t*bAB[j]*Fu[:,j]\n",
    "        Fu[:,:k-1] = Fu[:,1:]\n",
    "        Fu[:,k-1] = flux(y[:,n+1])\n",
    "        y[:,n+1] = y[:,n]\n",
    "        for j in range(k):\n",
    "            y[:,n+1] =y[:,n+1] +delta_t*bAM[j]*Fu[:,j]\n",
    "        Fu[:,k-1] =flux(y[:,n+1])\n",
    "    return tspan, y "
   ]
  },
  {
   "cell_type": "code",
   "execution_count": null,
   "metadata": {},
   "outputs": [],
   "source": [
    "order = 2\n",
    "N=100 #5\n",
    "AB=lm.Adams_Bashforth(order)\n",
    "AM=lm.Adams_Moulton(order-1)\n",
    "pr=ODEproblem(\"linear_system2\")\n",
    "t_span=np.linspace(0,pr.T_fin,N)\n",
    "y_0 = np.zeros((len(pr.u0),order))\n",
    "for j in range(order):\n",
    "    y_0[:,j] = pr.exact(pr.u0,t_span[j])\n",
    "    \n",
    "tt,uu=multiAMB(pr.flux,t_span,y_0,AB.beta, AM.beta)\n",
    "plt.plot(tt,uu[0,:])\n",
    "plt.plot(tt,uu[1,:])"
   ]
  },
  {
   "cell_type": "code",
   "execution_count": null,
   "metadata": {},
   "outputs": [],
   "source": [
    "## TEST CONVERGENCE! \n",
    "pr=ODEproblem(\"linear_system2\")\n",
    "def error(tt,yy):\n",
    "    errors=np.zeros(len(tt))\n",
    "    for it, t in enumerate(tt):\n",
    "        errors[it]=np.linalg.norm(yy[:,it]-pr.exact(yy[:,0],t))\n",
    "    return np.mean(errors)\n",
    "\n",
    "Ns=[2**k for k in range(5,10)]\n",
    "orders=range(2,7)\n",
    "maxOrder=len(orders)\n",
    "\n",
    "errorEx=np.zeros((maxOrder,len(Ns)))\n",
    "dts=    np.zeros(len(Ns))\n",
    "\n",
    "\n",
    "\n",
    "\n",
    "for iN, N in enumerate(Ns):\n",
    "    tspan=np.linspace(0,pr.T_fin,N)\n",
    "    dts[iN]=tspan[1]-tspan[0]\n",
    "    for iorder,order in enumerate(orders):\n",
    "        AB=lm.Adams_Bashforth(order)\n",
    "        AM=lm.Adams_Moulton(order-1)\n",
    "        y_0 = np.zeros((len(pr.u0),order))\n",
    "        for j in range(order):\n",
    "            y_0[:,j] = pr.exact(pr.u0,tspan[j])\n",
    "        tt,yy=multiAMB(pr.flux,tspan,y_0,AB.beta,AM.beta)\n",
    "        errorEx[iorder,iN]=error(tt,yy)\n",
    "\n",
    "plt.figure()\n",
    "for iorder,order in enumerate(orders):\n",
    "    plt.loglog(dts,errorEx[iorder,:],label=\"AB\"+str(order))\n",
    "    plt.loglog(dts,dts**(order)*errorEx[iorder,2]/dts[2]**order,\":\", label=\"order %d\"%(order))\n",
    "plt.legend()"
   ]
  }
 ],
 "metadata": {
  "kernelspec": {
   "display_name": "Python 3",
   "language": "python",
   "name": "python3"
  },
  "language_info": {
   "codemirror_mode": {
    "name": "ipython",
    "version": 3
   },
   "file_extension": ".py",
   "mimetype": "text/x-python",
   "name": "python",
   "nbconvert_exporter": "python",
   "pygments_lexer": "ipython3",
   "version": "3.6.9"
  },
  "vscode": {
   "interpreter": {
    "hash": "31f2aee4e71d21fbe5cf8b01ff0e069b9275f58929596ceb00d14d90e3e16cd6"
   }
  }
 },
 "nbformat": 4,
 "nbformat_minor": 4
}
