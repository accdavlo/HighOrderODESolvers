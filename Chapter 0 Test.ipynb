{
 "cells": [
  {
   "cell_type": "markdown",
   "metadata": {},
   "source": [
    "# Chapter 0 Test Jupyter Notebook\n",
    "\n",
    "Try to run all the cells of these notebook, to understand if your setting works for the course.\n",
    "\n",
    "To run a cell you can press the **play** button or Ctrl+Enter or Shift+Enter"
   ]
  },
  {
   "cell_type": "code",
   "execution_count": null,
   "metadata": {},
   "outputs": [],
   "source": [
    "# Run this cell if you are on Google Colab or if you don't have installed all the following modules \n",
    "# on your laptop, but you have pip and python3 installed\n",
    "\n",
    "# If you do not have numpy, matplotlib, scipy or nodepy, run this cell\n",
    "!pip install numpy\n",
    "# This is the basic package in python with all the numerical functions\n",
    "\n",
    "!pip install scipy\n",
    "# This package has some functions to deal with polynomials\n",
    "\n",
    "!pip install matplotlib\n",
    "# This package allows to  plot\n",
    "\n",
    "!pip install nodepy\n",
    "# This package has some interesting features for RK methods"
   ]
  },
  {
   "cell_type": "code",
   "execution_count": null,
   "metadata": {},
   "outputs": [],
   "source": [
    "# Test if you can load packages, if you get errors go back to try to install them \n",
    "# (if nothing appears it worked)\n",
    "\n",
    "import numpy as np  \n",
    "# This is the basic package in python with all the numerical functions\n",
    "\n",
    "import matplotlib.pyplot as plt \n",
    "# This package allows to  plot\n",
    "\n",
    "from scipy import optimize\n",
    "# This module has optimization tools\n",
    "\n",
    "from nodepy import * \n",
    "#This package already implemented some functions for Runge Kutta and multistep methods\n"
   ]
  },
  {
   "cell_type": "code",
   "execution_count": null,
   "metadata": {
    "scrolled": true
   },
   "outputs": [],
   "source": [
    "a=np.sqrt(3)\n",
    "\n",
    "f= lambda x : x**2.-a**2.\n",
    "rkM= rk.loadRKM(\"SSP104\")\n",
    "print(rkM)\n",
    "\n",
    "z=optimize.newton(f,0.5)\n",
    "\n",
    "xx=np.linspace(0,10,100)\n",
    "\n",
    "plt.plot(xx,f(xx)-f(z))\n"
   ]
  },
  {
   "cell_type": "markdown",
   "metadata": {},
   "source": [
    "If the last cell gave as output a huge table and a plot of  a parabola, you're ready to start."
   ]
  }
 ],
 "metadata": {
  "kernelspec": {
   "display_name": "Python 3",
   "language": "python",
   "name": "python3"
  },
  "language_info": {
   "codemirror_mode": {
    "name": "ipython",
    "version": 3
   },
   "file_extension": ".py",
   "mimetype": "text/x-python",
   "name": "python",
   "nbconvert_exporter": "python",
   "pygments_lexer": "ipython3",
   "version": "3.8.3"
  }
 },
 "nbformat": 4,
 "nbformat_minor": 4
}
