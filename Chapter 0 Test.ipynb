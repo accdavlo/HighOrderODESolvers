{
 "cells": [
  {
   "cell_type": "markdown",
   "metadata": {},
   "source": [
    "# Chapter 0 Test Jupyter Notebook\n",
    "\n",
    "Try to run all the cells of these notebook, to understand if your setting works for the course.\n",
    "\n",
    "To run a cell you can press the **play** button or Ctrl+Enter or Shift+Enter"
   ]
  },
  {
   "cell_type": "code",
   "execution_count": 4,
   "metadata": {
    "collapsed": true
   },
   "outputs": [
    {
     "name": "stdout",
     "output_type": "stream",
     "text": [
      "Requirement already satisfied: numpy in /home/accdavlo/anaconda3/lib/python3.8/site-packages (1.19.1)\n",
      "Requirement already satisfied: scipy in /home/accdavlo/anaconda3/lib/python3.8/site-packages (1.5.2)\n",
      "Requirement already satisfied: numpy>=1.14.5 in /home/accdavlo/anaconda3/lib/python3.8/site-packages (from scipy) (1.19.1)\n",
      "Requirement already satisfied: matplotlib in /home/accdavlo/anaconda3/lib/python3.8/site-packages (3.3.1)\n",
      "Requirement already satisfied: python-dateutil>=2.1 in /home/accdavlo/anaconda3/lib/python3.8/site-packages (from matplotlib) (2.8.1)\n",
      "Requirement already satisfied: pillow>=6.2.0 in /home/accdavlo/anaconda3/lib/python3.8/site-packages (from matplotlib) (7.2.0)\n",
      "Requirement already satisfied: cycler>=0.10 in /home/accdavlo/anaconda3/lib/python3.8/site-packages (from matplotlib) (0.10.0)\n",
      "Requirement already satisfied: certifi>=2020.06.20 in /home/accdavlo/anaconda3/lib/python3.8/site-packages (from matplotlib) (2020.6.20)\n",
      "Requirement already satisfied: kiwisolver>=1.0.1 in /home/accdavlo/anaconda3/lib/python3.8/site-packages (from matplotlib) (1.2.0)\n",
      "Requirement already satisfied: pyparsing!=2.0.4,!=2.1.2,!=2.1.6,>=2.0.3 in /home/accdavlo/anaconda3/lib/python3.8/site-packages (from matplotlib) (2.4.7)\n",
      "Requirement already satisfied: numpy>=1.15 in /home/accdavlo/anaconda3/lib/python3.8/site-packages (from matplotlib) (1.19.1)\n",
      "Requirement already satisfied: six>=1.5 in /home/accdavlo/anaconda3/lib/python3.8/site-packages (from python-dateutil>=2.1->matplotlib) (1.15.0)\n",
      "Requirement already satisfied: nodepy in /home/accdavlo/anaconda3/lib/python3.8/site-packages (1.0.1)\n",
      "Requirement already satisfied: sympy in /home/accdavlo/anaconda3/lib/python3.8/site-packages (from nodepy) (1.6.2)\n",
      "Requirement already satisfied: numpy in /home/accdavlo/anaconda3/lib/python3.8/site-packages (from nodepy) (1.19.1)\n",
      "Requirement already satisfied: matplotlib in /home/accdavlo/anaconda3/lib/python3.8/site-packages (from nodepy) (3.3.1)\n",
      "Requirement already satisfied: mpmath>=0.19 in /home/accdavlo/anaconda3/lib/python3.8/site-packages (from sympy->nodepy) (1.1.0)\n",
      "Requirement already satisfied: python-dateutil>=2.1 in /home/accdavlo/anaconda3/lib/python3.8/site-packages (from matplotlib->nodepy) (2.8.1)\n",
      "Requirement already satisfied: cycler>=0.10 in /home/accdavlo/anaconda3/lib/python3.8/site-packages (from matplotlib->nodepy) (0.10.0)\n",
      "Requirement already satisfied: certifi>=2020.06.20 in /home/accdavlo/anaconda3/lib/python3.8/site-packages (from matplotlib->nodepy) (2020.6.20)\n",
      "Requirement already satisfied: kiwisolver>=1.0.1 in /home/accdavlo/anaconda3/lib/python3.8/site-packages (from matplotlib->nodepy) (1.2.0)\n",
      "Requirement already satisfied: pillow>=6.2.0 in /home/accdavlo/anaconda3/lib/python3.8/site-packages (from matplotlib->nodepy) (7.2.0)\n",
      "Requirement already satisfied: pyparsing!=2.0.4,!=2.1.2,!=2.1.6,>=2.0.3 in /home/accdavlo/anaconda3/lib/python3.8/site-packages (from matplotlib->nodepy) (2.4.7)\n",
      "Requirement already satisfied: six>=1.5 in /home/accdavlo/anaconda3/lib/python3.8/site-packages (from python-dateutil>=2.1->matplotlib->nodepy) (1.15.0)\n"
     ]
    }
   ],
   "source": [
    "# Run this cell if you are on Google Colab or if you don't have installed all the following modules \n",
    "# on your laptop, but you have pip and python3 installed\n",
    "\n",
    "# If you do not have numpy, matplotlib, scipy or nodepy, run this cell\n",
    "!pip install numpy\n",
    "# This is the basic package in python with all the numerical functions\n",
    "\n",
    "!pip install scipy\n",
    "# This package has some functions to deal with polynomials\n",
    "\n",
    "!pip install matplotlib\n",
    "# This package allows to  plot\n",
    "\n",
    "!pip install nodepy\n",
    "# This package has some interesting features for RK methods"
   ]
  },
  {
   "cell_type": "code",
   "execution_count": 5,
   "metadata": {},
   "outputs": [],
   "source": [
    "# Test if you can load packages, if you get errors go back to try to install them \n",
    "# (if nothing appears it worked)\n",
    "\n",
    "import numpy as np  \n",
    "# This is the basic package in python with all the numerical functions\n",
    "\n",
    "import matplotlib.pyplot as plt \n",
    "# This package allows to  plot\n",
    "\n",
    "from scipy import optimize\n",
    "# This module has optimization tools\n",
    "\n",
    "from nodepy import * \n",
    "#This package already implemented some functions for Runge Kutta and multistep methods\n"
   ]
  },
  {
   "cell_type": "code",
   "execution_count": 8,
   "metadata": {
    "scrolled": true
   },
   "outputs": [
    {
     "name": "stdout",
     "output_type": "stream",
     "text": [
      "SSPRK(10,4)\n",
      "The optimal ten-stage, fourth order SSP Runge-Kutta method\n",
      " 0    |\n",
      " 1/6  | 1/6\n",
      " 1/3  | 1/6   1/6\n",
      " 1/2  | 1/6   1/6   1/6\n",
      " 2/3  | 1/6   1/6   1/6   1/6\n",
      " 1/3  | 1/15  1/15  1/15  1/15  1/15\n",
      " 1/2  | 1/15  1/15  1/15  1/15  1/15  1/6\n",
      " 2/3  | 1/15  1/15  1/15  1/15  1/15  1/6   1/6\n",
      " 5/6  | 1/15  1/15  1/15  1/15  1/15  1/6   1/6   1/6\n",
      " 1    | 1/15  1/15  1/15  1/15  1/15  1/6   1/6   1/6   1/6\n",
      "______|____________________________________________________________\n",
      "      | 1/10  1/10  1/10  1/10  1/10  1/10  1/10  1/10  1/10  1/10\n",
      "      |       2/9               5/18  1/3                     1/6\n"
     ]
    },
    {
     "data": {
      "text/plain": [
       "[<matplotlib.lines.Line2D at 0x7fa71a602910>]"
      ]
     },
     "execution_count": 8,
     "metadata": {},
     "output_type": "execute_result"
    },
    {
     "data": {
      "image/png": "[encoded data removed]",
      "text/plain": [
       "<Figure size 432x288 with 1 Axes>"
      ]
     },
     "metadata": {
      "needs_background": "light"
     },
     "output_type": "display_data"
    }
   ],
   "source": [
    "a=np.sqrt(3)\n",
    "\n",
    "f= lambda x : x**2.-a**2.\n",
    "rkM= rk.loadRKM(\"SSP104\")\n",
    "print(rkM)\n",
    "\n",
    "z=optimize.newton(f,0.5)\n",
    "\n",
    "xx=np.linspace(0,10,100)\n",
    "\n",
    "plt.plot(xx,f(xx)-f(z))\n"
   ]
  },
  {
   "cell_type": "markdown",
   "metadata": {},
   "source": [
    "If the last cell gave as output a huge table and a plot of  a parabola, you're ready to start."
   ]
  }
 ],
 "metadata": {
  "kernelspec": {
   "display_name": "Python 3",
   "language": "python",
   "name": "python3"
  },
  "language_info": {
   "codemirror_mode": {
    "name": "ipython",
    "version": 3
   },
   "file_extension": ".py",
   "mimetype": "text/x-python",
   "name": "python",
   "nbconvert_exporter": "python",
   "pygments_lexer": "ipython3",
   "version": "3.8.3"
  }
 },
 "nbformat": 4,
 "nbformat_minor": 4
}
