{
 "cells": [
  {
   "cell_type": "markdown",
   "metadata": {},
   "source": [
    "# Classical High Order Methods"
   ]
  },
  {
   "cell_type": "markdown",
   "metadata": {},
   "source": [
    "### Table of contents\n",
    " 1. Chapter 2: Classical Methods\n",
    "    1. [Section 1.1: Runge Kutta](#RK)\n",
    "    1. [Section 1.2: Multistep methods](#multistep)"
   ]
  },
  {
   "cell_type": "markdown",
   "metadata": {},
   "source": [
    "* How to obtain generalizations of the Euler methods?\n",
    "* How can we obtain higher order of accuracy $\\Delta t^p$?\n",
    "\n",
    "![Generalization of Euler](images/chapter2/generalizeEuler.png)"
   ]
  },
  {
   "cell_type": "markdown",
   "metadata": {},
   "source": [
    "## Runge Kutta Methods <a id='RK'></a>"
   ]
  },
  {
   "cell_type": "markdown",
   "metadata": {},
   "source": [
    "The basic idea of Runge--Kutta methods is to introduce further stages inside the computation of one step, in order to achieve higher order of accuracy.\n",
    "\n",
    "### $\\theta$ method\n",
    "\n",
    "For example consider the following method:\n",
    "\n",
    "$$\n",
    "y^{*}=y^n +\\theta \\Delta t F(t^n,y^n)\\\\\n",
    "y^{n+1} = y^n +\\Delta t \\left( \\frac{2\\theta-1}{2\\theta}F(t^n,y^n) + \\frac{1}{2\\theta} F(t^n+\\theta\\Delta t,y^*) \\right).\n",
    "$$\n",
    "\n",
    "We introduced 1 extra stage. Do we get an extra order?\n",
    "\n",
    "#### Taylor expansion for local truncation\n",
    "Suppose that $y^n=y(t^n)$, define $t^*=t^n+\\theta \\Delta t$, and suppose that $F$ does not depends explicitly on time,\n",
    "\n",
    "$$\n",
    "\\begin{align}\n",
    "y(t^{n+1})&=y^n + \\Delta t y'(t^n) + \\frac{\\Delta t^2}{2} y''(t^n) + \\mathcal{O}(\\Delta t^3)\\\\\n",
    "y(t^{*})&=y^n + \\theta\\Delta t y'(t^n) + \\frac{\\theta^2\\Delta t^2}{2} y''(t^n) + \\mathcal{O}(\\Delta t^3)\\\\\n",
    "y^{*} &= y^n + \\theta \\Delta t F(y^n) = y(t^*)+ \\mathcal{O}(\\Delta t^2)\\\\\n",
    "y^{n+1} &= y^n +\\Delta t \\left( \\frac{2\\theta-1}{2\\theta}F(t^n,y^n) + \\frac{1}{2\\theta} F(y^*) \\right)\\\\\n",
    "&= y^n +\\Delta t \\left( \\frac{2\\theta-1}{2\\theta}y'(t^n) + \\frac{1}{2\\theta} F(y^n+\\theta \\Delta t y'(t^n)) \\right) + \\mathcal{O}(\\Delta t^3)\\\\\n",
    "&= y^n +\\Delta t \\left( \\frac{2\\theta-1}{2\\theta}y'(t^n) + \\frac{1}{2\\theta} F(y^n)+\\frac{1}{2\\theta} \\frac{dF}{dy}(y^n)\\theta \\Delta t y'(t^n)  \\right) + \\mathcal{O}(\\Delta t^3)\\\\\n",
    "&= y^n +\\Delta t \\left( \\frac{2\\theta-1}{2\\theta}y'(t^n) + \\frac{1}{2\\theta} y'(t^n)+\\frac{1}{2\\theta} \\frac{dF}{dt}(y^n)\\theta \\Delta t   \\right) + \\mathcal{O}(\\Delta t^3)\\\\\n",
    "&= y^n +\\Delta t \\left( y'(t^n)+\\frac{1}{2\\theta} \\frac{d}{dt}(y'(t^n))\\theta \\Delta t   \\right) + \\mathcal{O}(\\Delta t^3)\\\\\n",
    "&= y^n +\\Delta t \\left( y'(t^n)+\\frac{1}{2} y''(t^n) \\Delta t   \\right) + \\mathcal{O}(\\Delta t^3)=y(t^{n+1})+\\mathcal{O}(\\Delta t^3).\n",
    "\\end{align}\n",
    "$$\n",
    "\n",
    "So, second order in the **global** error."
   ]
  },
  {
   "cell_type": "markdown",
   "metadata": {},
   "source": [
    "### General formulation\n",
    "A general Runge--Kutta method with $S$ stages can be written using a Butcher tableau\n",
    "$$\n",
    "\\begin{array}\n",
    "{c|c}\n",
    "c&A\\\\\n",
    "\\hline\n",
    "& b^T\n",
    "\\end{array}\n",
    "$$\n",
    "where $A\\in \\mathbb R^{S\\times S},\\, b,c\\in\\mathbb R^S$, in the following formulation\n",
    "\n",
    "$$\n",
    "\\begin{cases}\n",
    "y^{(k)}=y^n + \\Delta t \\sum_{j=1}^S a_{kj} F(t^n+c_j\\Delta t,y^{(j)}), \\quad k=1,\\dots, S,\\\\\n",
    "y^{n+1} = y^n+ \\Delta t \\sum_{j=1}^S b_{j} F(t^n+c_j\\Delta t,y^{(j)})\n",
    "\\end{cases}\n",
    "$$\n",
    "\n",
    "To be an **explicit** scheme $A$ must be a strictly low-triangular matrix, i.e., $a_{ij}=0$ if $j\\geq i$. \n",
    "\n",
    "#### Example $\\theta$ scheme\n",
    "The $\\theta$ scheme we have seen before can be written as\n",
    "\n",
    "$$\n",
    "\\begin{array}\n",
    "{c|cc}\n",
    "0\\\\\n",
    "\\theta & \\theta\\\\\n",
    "\\hline\n",
    "& \\frac{2\\theta -1}{2\\theta} &\\frac{1}{2\\theta} \n",
    "\\end{array}\n",
    "$$\n",
    "\n",
    "We see that the scheme is explicit, because there is nothing on the top right of $A$."
   ]
  },
  {
   "cell_type": "markdown",
   "metadata": {},
   "source": [
    "### Order of explicit RK schemes\n",
    "How do we know that a RK scheme has a certain order?\n",
    "For $\\theta $ method we have written the Taylor expansion up to the order we were expecting and we matched the coefficients of the exact solution with the one of the approximated solutions at all the steps.\n",
    "\n",
    "If one wants to generalize this conditions using the Taylor expansion, it takes long, but you can get to similar results\n",
    "\n",
    "![Generalization of Euler](images/chapter2/orderCOnditionRK4.png)\n",
    "Where the first condition is for order 1 RK methods,\n",
    "\n",
    "the first 2 conditions are for order 2 RK methods,\n",
    "\n",
    "the first 4 conditions are for order 3 RK methods,\n",
    "\n",
    "all the 8 conditions are for order 4 RK methods.\n",
    "\n",
    "\n",
    "* How can the conditions be computed without doing the Taylor expansions?\n",
    "\n",
    "#### Trees \n",
    "A very smart way of computing all the conditions is given by combinatorial arguments that can be represented as trees. \n",
    "You can find the proof in [Butcher](https://onlinelibrary.wiley.com/doi/book/10.1002/9781119121534)\n",
    "\n",
    "![Tree Order](images/chapter2/treeOrder.png)\n",
    "\n",
    "A tree is an object with nodes and branches as in figure, with **leaves** on top (nodes without further branches outward going) and a **root** at the bottom (the node with only branches outgoing).\n",
    "\n",
    "The **order** of a tree is the number of nodes in that tree.\n",
    "\n",
    "A RK scheme is of order $p$ if all the trees of order less or equal to $p$ verify certain conditions.\n",
    "\n",
    "All the conditions that must verified are of the type $\\Phi(a_{ij},b_i,c_j)=\\frac{1}{\\gamma}$ polynomial in the coefficients of the Butcher tableau equal to the inverse of an integer. \n",
    "For every tree is very easy to compute such polynomial $\\Phi$ and the integer $\\gamma$.\n",
    "\n",
    "Here is an example:\n",
    "![Tree Order](images/chapter2/treePoly.png)\n",
    "\n",
    "\n",
    "For order 4 we have all these trees and conditions\n",
    "![Tree Order](images/chapter2/treesOrder4.png)\n",
    "\n",
    "Reminder: an explicit RK method with $S$ stages has $\\frac{S^2+3S-2}{2}$ coefficients.\n",
    "\n",
    "| Stages/Order  | Trees | Conditions | Explicit RK coefficient |\n",
    "|---|---|---|---|\n",
    "| 1  | 1  | 1  | 1  |\n",
    "| 2  | 1  | 2  | 4  |\n",
    "| 3  | 2  | 4  | 8  |\n",
    "| 4  | 4  | 8  | 13  |\n",
    "| 5  | 9  | 17  | 19  |\n",
    "| 6  | 20 | 37  | 26  |\n",
    "| 7  | 48 | 85     | 34  |\n",
    "| 8  | 115 | 200   | 43  |\n",
    "| 9  | 286 | 486   | 53  |\n",
    "| 10 | 719 | 1205  | 64  |\n",
    "\n",
    "Moreover, the solution of these conditions should be admissible. For example, there is no 5 stages 5th order explicit RK method, one needs 6 stages. As well, some of the relations may be redundant. Building higher order explicit Runge Kutta method is a challenge.\n",
    "\n",
    "An extract of Butcher\n",
    "![Higher Order Butcher](images/chapter2/orderVsStages.png)\n",
    "\n",
    "#### Theorem 324C [Butcher](https://onlinelibrary.wiley.com/doi/book/10.1002/9781119121534)\n",
    "For any positive integer $p$, an explicit RK method exists with order $p$ and $S$ stages, where\n",
    "\\begin{equation}\n",
    "S=\\begin{cases}\n",
    "\\frac{3p^2-10p+24}{8}, \\quad & p \\text{ even,}\\\\\n",
    "\\frac{3p^2-4p+9}{8}, \\quad & p \\text{ odd.}\n",
    "\\end{cases}\n",
    "\\end{equation}\n",
    "\n",
    "| Order  | Stages  |\n",
    "|---|---|\n",
    "| 1  | 1  |\n",
    "| 2  | 2  | \n",
    "| 3  | 3  |\n",
    "| 4  | 4  | \n",
    "| 5  | 8  |\n",
    "| 6  | 9  | \n",
    "| 7  | 16 |\n",
    "| 8  | 17 |\n",
    "| 9  | 27 | \n",
    "| 10 | 28 | "
   ]
  },
  {
   "cell_type": "markdown",
   "metadata": {},
   "source": [
    "Examples of explicit RK4\n",
    "$$\n",
    "\\begin{array}\n",
    "{c|cccc}\n",
    "0\\\\\n",
    "\\frac{1}{2} & \\frac{1}{2}\\\\\n",
    "\\frac{1}{2} &0 &\\frac{1}{2} \\\\\n",
    "1& 0& 0& 1\\\\\n",
    "\\hline\n",
    "& \\frac{1}{6} &\\frac{1}{3} &\\frac{1}{3} &\\frac{1}{6} \n",
    "\\end{array} \\qquad  \\begin{array}\n",
    "{c|cccc}\n",
    "0\\\\\n",
    "\\frac{1}{4} & \\frac{1}{4}\\\\\n",
    "\\frac{1}{2} &0 &\\frac{1}{2} \\\\\n",
    "1& 1& -2& 2\\\\\n",
    "\\hline\n",
    "& \\frac{1}{6} &0 &\\frac{2}{3} &\\frac{1}{6} \n",
    "\\end{array}\n",
    "$$\n",
    "\n",
    "An explicit RK5\n",
    "$$\n",
    "\\begin{array}\n",
    "{c|cccccc}\n",
    "0\\\\\n",
    "\\frac{1}{4} & \\frac{1}{4}\\\\\n",
    "\\frac{1}{4} &\\frac{1}{8} &\\frac{1}{8} \\\\\n",
    "\\frac{1}{2}& 0& 0& \\frac{1}{2}\\\\\n",
    "\\frac{3}{4}& \\frac{3}{16}& -\\frac{3}{8}& \\frac{3}{8}&\\frac{9}{16}\\\\\n",
    "1& -\\frac{3}{7}& \\frac{8}{7}& \\frac{6}{7} & -\\frac{12}{7} & \\frac{8}{7}\\\\\n",
    "\\hline\n",
    "& \\frac{7}{90}&0 &\\frac{32}{90} &\\frac{12}{90} &\\frac{32}{90}&\\frac{7}{90} \n",
    "\\end{array} \n",
    "$$"
   ]
  },
  {
   "cell_type": "markdown",
   "metadata": {},
   "source": [
    "### Implicit RK schemes\n",
    "The implicit RK schemes are defined as usual RK schemes and have at least a nonzero element in the upper triangular part of $A$. \n",
    "They have the advantage of requiring **less stages** (with respect to explicit RK) to obtain the order of accuracy required.\n",
    "\n",
    "For example \n",
    "\n",
    "$$\n",
    "\\begin{array}\n",
    "{c|cc}\n",
    "\\frac{1}{2}-\\frac{\\sqrt{3}}{6} & \\frac{1}{4} &\\frac{1}{4}-\\frac{\\sqrt{3}}{6}\\\\\n",
    "\\frac{1}{2}+\\frac{\\sqrt{3}}{6}  &\\frac{1}{4}+\\frac{\\sqrt{3}}{6} & \\frac{1}{4}\\\\\n",
    "\\hline\n",
    "& \\frac{1}{2} &\\frac{1}{2} \n",
    "\\end{array}\n",
    "$$\n",
    "\n",
    "has order 4. \n",
    "\n",
    "There are clever ways of building implicit RK methods using well known high order accurate quadrature rules.\n",
    "\n",
    "Take a quadrature rule of order $p$ with $S$ quadrature points $c_i \\in [0,1]$, provided with $S$ interpolation polynomials $\\varphi_i$, such that $\\varphi_i(c_j)=\\delta_{i,j}$ and\n",
    "\n",
    "$$\n",
    "y(t) = \\sum_{i=1}^S \\varphi_i(t) y(t^n+c_i\\Delta t) + \\mathcal{O}(\\Delta t^{p+1}), \\qquad \\forall t \\in [t^n,t^{n+1}].\n",
    "$$\n",
    "\n",
    "We can then define the $a_{ij}$ approximating \n",
    "\n",
    "$$\n",
    "y^{(i)}=y^n+\\int_{t^n}^{t^n+c_i\\Delta t} F(t,y(t))dt\\approx y^n+\\sum_{j} \\int_{t^n}^{t^n+c_i\\Delta t} \\varphi_j(t) dt F(t,y^{(j)})  \n",
    "$$\n",
    "\n",
    "so that\n",
    "\n",
    "$$\n",
    "a_{ij}:=\\int_{t^n}^{t^n+c_i\\Delta t} \\varphi_j(t) dt\n",
    "$$\n",
    "\n",
    "and similarly \n",
    "\n",
    "$$\n",
    "b_{j}:=\\int_{t^n}^{t^{n+1}} \\varphi_j(t) dt.\n",
    "$$\n",
    "\n",
    "This guarantees a high order quadrature rule also in the final step, keeping the right accuracy order in every step of the RK method.\n",
    "\n",
    "Using Gauss--Legendre polynomials one gets $p=2s$, examples\n",
    "\n",
    "\n",
    "$$\n",
    "\\begin{array}\n",
    "{c|c}\n",
    "\\frac{1}{2} & \\frac{1}{2}\\\\\n",
    "\\hline\n",
    "s=1, p=2 & 1 \n",
    "\\end{array}\n",
    "$$\n",
    "\n",
    "$$\n",
    "\\begin{array}\n",
    "{c|cc}\n",
    "\\frac{1}{2}-\\frac{\\sqrt{3}}{6} & \\frac{1}{4} &\\frac{1}{4}-\\frac{\\sqrt{3}}{6}\\\\\n",
    "\\frac{1}{2}+\\frac{\\sqrt{3}}{6}  &\\frac{1}{4}+\\frac{\\sqrt{3}}{6} & \\frac{1}{4}\\\\\n",
    "\\hline\n",
    "s=2, p=4 & \\frac{1}{2} &\\frac{1}{2} \n",
    "\\end{array}\n",
    "$$\n",
    "\n",
    "$$\n",
    "\\begin{array}\n",
    "{c|ccc}\n",
    "\\frac{1}{2}-\\frac{\\sqrt{15}}{10} & \\frac{5}{36} &\\frac{2}{9}-\\frac{\\sqrt{15}}{15} &\\frac{5}{36} -\\frac{\\sqrt{15}}{30} \\\\\n",
    "\\frac{1}{2} & \\frac{5}{36}+\\frac{\\sqrt{15}}{24}  &\\frac{2}{9}&\\frac{5}{36} -\\frac{\\sqrt{15}}{24} \\\\\n",
    "\\frac{1}{2}+\\frac{\\sqrt{15}}{10}+\\frac{\\sqrt{15}}{30} & \\frac{5}{36} &\\frac{2}{9}+\\frac{\\sqrt{15}}{15} &\\frac{5}{36}  \\\\\n",
    "\\hline\n",
    "s=3, p=6 & \\frac{5}{18} &\\frac{4}{9} &\\frac{5}{18} \n",
    "\\end{array}\n",
    "$$\n",
    "\n",
    "Using Gauss--Lobatto or Radau points one decrease the order $p=2s-1$, but increases stability."
   ]
  },
  {
   "cell_type": "markdown",
   "metadata": {},
   "source": [
    "### Stability\n",
    "As we have seen before for Euler, the stability can be evaluated on Dahlquist's equation\n",
    "\n",
    "$$ y'=qy$$ \n",
    "\n",
    "with Re$(q)\\leq 0$. Considering $z=\\theta q$ we want to write the RK methods on this problem as \n",
    "\n",
    "$$\n",
    "y^{n+1}=R(z)y^n\n",
    "$$\n",
    "\n",
    "and find the stability region $\\mathcal S=\\lbrace z\\in \\mathbb C : |R(z)|\\leq 1\\rbrace$.\n",
    "\n",
    "It is actually very simple to write the stability function $R$ for these problems. \n",
    "Let $Y\\in \\mathbb R^S$ be the solution of the RK method at all the stages, namely, it solves\n",
    "\n",
    "$$\n",
    "Y=\\mathbf{1}y^n + \\Delta t q A Y\n",
    "$$\n",
    "\n",
    "or\n",
    "\n",
    "$$\n",
    "(I-zA)Y=\\mathbf{1}y^n \\quad \\Leftrightarrow Y=(I-zA)^{-1}\\mathbf{1} y^n\n",
    "$$\n",
    "\n",
    "with $\\mathbf 1$ the vector of dimension $S$ with all entries equal to 1.\n",
    "\n",
    "Substituting this into the final update, we have\n",
    "\n",
    "$$\n",
    "y^{n+1} = y^n + z b^{T}Y=y^n + z b^T(I-zA)^{-1}\\mathbf{1} y^n = (1+ z b^T(I-zA)^{-1}\\mathbf{1}) y^n$$\n",
    "\n",
    "\n",
    "which gives a way of computing the stability region very efficiently with \n",
    "\n",
    "$$\n",
    "R(z) =1+ z b^T(I-zA)^{-1}\\mathbf{1}.\n",
    "$$"
   ]
  },
  {
   "cell_type": "code",
   "execution_count": 71,
   "metadata": {},
   "outputs": [
    {
     "name": "stdout",
     "output_type": "stream",
     "text": [
      "[[0 0 0 0]\n",
      " [1/2 0 0 0]\n",
      " [0 1/2 0 0]\n",
      " [0 0 1 0]]\n",
      "[1/6 1/3 1/3 1/6]\n"
     ]
    },
    {
     "data": {
      "image/png": "[encoded data removed]",
      "text/plain": [
       "<Figure size 432x288 with 1 Axes>"
      ]
     },
     "metadata": {
      "needs_background": "light"
     },
     "output_type": "display_data"
    },
    {
     "data": {
      "image/png": "[encoded data removed]",
      "text/plain": [
       "<Figure size 432x288 with 1 Axes>"
      ]
     },
     "metadata": {
      "needs_background": "light"
     },
     "output_type": "display_data"
    },
    {
     "data": {
      "image/png": "[encoded data removed]",
      "text/plain": [
       "<Figure size 432x288 with 1 Axes>"
      ]
     },
     "metadata": {
      "needs_background": "light"
     },
     "output_type": "display_data"
    },
    {
     "data": {
      "image/png": "[encoded data removed]",
      "text/plain": [
       "<Figure size 432x288 with 1 Axes>"
      ]
     },
     "metadata": {
      "needs_background": "light"
     },
     "output_type": "display_data"
    }
   ],
   "source": [
    "from nodepy import rk\n",
    "import numpy as np\n",
    "\n",
    "A=np.array([[0,0],[1/2,0]])\n",
    "b=np.array([0,1])\n",
    "rk2 = rk.ExplicitRungeKuttaMethod(A,b)\n",
    "\n",
    "A=np.array([[0]])\n",
    "b=np.array([1])\n",
    "rk1 = rk.ExplicitRungeKuttaMethod(A,b)\n",
    "\n",
    "\n",
    "A=np.array([[0,0,0],[2/3,0,0],[1/3,1/3,0]])\n",
    "b=np.array([1/4,0,3/4])\n",
    "rk3 = rk.ExplicitRungeKuttaMethod(A,b)\n",
    "\n",
    "rk44=rk.loadRKM('RK44')\n",
    "\n",
    "\n",
    "rk1.plot_stability_region(bounds=[-5,1,-5,5])\n",
    "rk2.plot_stability_region(bounds=[-5,1,-5,5])\n",
    "rk3.plot_stability_region(bounds=[-5,1,-5,5])\n",
    "rk44.plot_stability_region(bounds=[-5,1,-5,5])\n",
    "\n",
    "print(rk44.A)\n",
    "print(rk44.b)"
   ]
  },
  {
   "cell_type": "markdown",
   "metadata": {},
   "source": [
    "### Stability for implicit method\n",
    "Implicit methods are able to deal with stiff problems, hence, other types of stability are more interesting in this situation.\n",
    "\n",
    "##### A-stability \n",
    "A methods is A-stable if $|R(z)|\\leq 1$ whenever Re$(z)\\leq 0$.\n",
    "\n",
    "##### L-stability\n",
    "A method is L-stable if it is A-stable and $R(\\infty)=0$.\n",
    "\n",
    "This gives better stability conditions in case of stiff problems.\n",
    "\n",
    "Radau and Lobatto implicit RK methods are L-stable, while Gauss--Legendre are only A-stable.\n",
    "\n",
    "One can write down the conditions for RK scheme to have these stabilities. [see Butcher](https://onlinelibrary.wiley.com/doi/book/10.1002/9781119121534)"
   ]
  },
  {
   "cell_type": "code",
   "execution_count": 17,
   "metadata": {},
   "outputs": [
    {
     "data": {
      "text/plain": [
       "array([1., 0., 0.])"
      ]
     },
     "execution_count": 17,
     "metadata": {},
     "output_type": "execute_result"
    }
   ],
   "source": [
    "from ODEproblems import ODEproblem\n",
    "pr=ODEproblem(\"Robertson\")\n"
   ]
  },
  {
   "cell_type": "code",
   "execution_count": 47,
   "metadata": {},
   "outputs": [],
   "source": [
    "## explicit RK method\n",
    "def explicitRK(flux, tspan, y_0, A, b, c):\n",
    "    # Solving u'=F(u,t)\n",
    "    # input: flux=F, tspan is a vector of times determining the RK steps\n",
    "    # input: y_0 the initial condition\n",
    "    # input: A,b,c are matrix and vectors of RK methods\n",
    "    N_time=len(tspan)  # N+1\n",
    "    dim=len(y_0)          # S\n",
    "    y=np.zeros((dim,N_time))    # initializing the variable of solutions    \n",
    "    y[:,0]=y_0                 # first timestep \n",
    "    S=np.shape(A)[0]\n",
    "    u=np.zeros((dim,S))       # Internal stages\n",
    "    Fu=np.zeros((dim,S))       # Flux at internal stages\n",
    "    for n in range(N_time-1):    # n=0,..., N-1\n",
    "        delta_t=tspan[n+1]-tspan[n]\n",
    "        for k in range(S):\n",
    "            u[:,k]=y[:,n] \n",
    "            for j in range(k):\n",
    "                u[:,k] =u[:,k]+ delta_t*A[k,j]*Fu[:,j]\n",
    "            Fu[:,k] = flux(u[:,k],tspan[n]+delta_t*c[k])\n",
    "        y[:,n+1]=y[:,n]\n",
    "        for j in range(S):\n",
    "            y[:,n+1]=y[:,n+1]+delta_t*b[j]*Fu[:,j]\n",
    "    return tspan, y "
   ]
  },
  {
   "cell_type": "code",
   "execution_count": 54,
   "metadata": {},
   "outputs": [
    {
     "data": {
      "text/plain": [
       "[<matplotlib.lines.Line2D at 0x7fc7e00720a0>]"
      ]
     },
     "execution_count": 54,
     "metadata": {},
     "output_type": "execute_result"
    },
    {
     "data": {
      "image/png": "[encoded data removed]",
      "text/plain": [
       "<Figure size 432x288 with 1 Axes>"
      ]
     },
     "metadata": {
      "needs_background": "light"
     },
     "output_type": "display_data"
    }
   ],
   "source": [
    "import matplotlib.pyplot as plt\n",
    "pr=ODEproblem(\"linear_system2\")\n",
    "t_span=np.linspace(0,pr.T_fin,4)\n",
    "rk44=rk.loadRKM('RK44')\n",
    "tt,uu=explicitRK(pr.flux,t_span,pr.u0,rk44.A,rk44.b,rk44.c)\n",
    "plt.plot(tt,uu[0,:])\n",
    "plt.plot(tt,uu[1,:])"
   ]
  },
  {
   "cell_type": "code",
   "execution_count": 72,
   "metadata": {},
   "outputs": [
    {
     "data": {
      "text/plain": [
       "<matplotlib.legend.Legend at 0x7fc7f9079190>"
      ]
     },
     "execution_count": 72,
     "metadata": {},
     "output_type": "execute_result"
    },
    {
     "data": {
      "image/png": "[encoded data removed]",
      "text/plain": [
       "<Figure size 432x288 with 1 Axes>"
      ]
     },
     "metadata": {
      "needs_background": "light"
     },
     "output_type": "display_data"
    }
   ],
   "source": [
    "def error(tt,yy):\n",
    "    errors=np.zeros(len(tt))\n",
    "    for it, t in enumerate(tt):\n",
    "        errors[it]=np.linalg.norm(yy[:,it]-pr.exact(yy[:,0],t))\n",
    "    return np.mean(errors)\n",
    "\n",
    "Ns=[2**k for k in range(1,10)]\n",
    "solvers=[rk1,rk2,rk3,rk44]\n",
    "\n",
    "errorEx=np.zeros((len(solvers),len(Ns)))\n",
    "dts=    np.zeros(len(Ns))\n",
    "\n",
    "\n",
    "\n",
    "for iN, N in enumerate(Ns):\n",
    "    tspan=np.linspace(0,pr.T_fin,N)\n",
    "    dts[iN]=tspan[1]-tspan[0]\n",
    "    for iS, rk in enumerate(solvers):\n",
    "        tt,yy=explicitRK(pr.flux,tspan,pr.u0,rk.A,rk.b,rk.c)\n",
    "        errorEx[iS,iN]=error(tt,yy)\n",
    "\n",
    "plt.figure()\n",
    "for iS, rk in enumerate(solvers):\n",
    "    plt.loglog(dts,errorEx[iS,:],label=rk.name)\n",
    "    plt.loglog(dts,0.1*dts**(rk.order()),\":\", label=\"order %d\"%(rk.order()))\n",
    "plt.legend()"
   ]
  },
  {
   "cell_type": "markdown",
   "metadata": {},
   "source": [
    "## Multistep Methods <a id='multistep'></a>"
   ]
  },
  {
   "cell_type": "markdown",
   "metadata": {},
   "source": [
    "1. Properties ODEs (conservation, energy/entropy conservation, positivity) (getting a good approximation)\n",
    "1. existence, uniqueness\n",
    "1. simple schemes: explicit Euler, implicit Euler (positive pres/TVD the only one), properties, stability, accuracy.\n",
    "1. RK methods. High order, how to build them (order condition), properties.\n",
    "1. Multistep methods\n",
    "1. SSPRK methods\n",
    "1. Implicit Euler is the only implicit SSP method\n",
    "1. DeC\n",
    "    1. Definition, theorem, proof\n",
    "    1. RK translation\n",
    "    1. Extension to PDE\n",
    "    1. Stability analysis\n",
    "1. ADER\n",
    "1. modified Patankar schemes\n",
    "1. relaxation schemes"
   ]
  }
 ],
 "metadata": {
  "kernelspec": {
   "display_name": "Python 3",
   "language": "python",
   "name": "python3"
  },
  "language_info": {
   "codemirror_mode": {
    "name": "ipython",
    "version": 3
   },
   "file_extension": ".py",
   "mimetype": "text/x-python",
   "name": "python",
   "nbconvert_exporter": "python",
   "pygments_lexer": "ipython3",
   "version": "3.8.3"
  }
 },
 "nbformat": 4,
 "nbformat_minor": 4
}
